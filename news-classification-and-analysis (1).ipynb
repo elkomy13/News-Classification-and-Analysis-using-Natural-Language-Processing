{
 "cells": [
  {
   "cell_type": "code",
   "execution_count": 1,
   "id": "5cf86e2a",
   "metadata": {
    "execution": {
     "iopub.execute_input": "2024-03-06T15:08:14.061514Z",
     "iopub.status.busy": "2024-03-06T15:08:14.061173Z",
     "iopub.status.idle": "2024-03-06T15:08:14.078457Z",
     "shell.execute_reply": "2024-03-06T15:08:14.077350Z"
    },
    "id": "zFCuqJ-zi7I3",
    "outputId": "4289192d-7c87-4bf3-8c31-a5061cc99ee6",
    "papermill": {
     "duration": 0.040973,
     "end_time": "2024-03-06T15:08:14.080363",
     "exception": false,
     "start_time": "2024-03-06T15:08:14.039390",
     "status": "completed"
    },
    "tags": []
   },
   "outputs": [
    {
     "name": "stdout",
     "output_type": "stream",
     "text": [
      "/kaggle/input/news-classification-and-analysis-using-nlp/english_news_dataset.csv\n"
     ]
    }
   ],
   "source": [
    "import os\n",
    "for dirname, _,filenames in os.walk('/kaggle/input'):\n",
    "    for filename in filenames:\n",
    "        print(os.path.join(dirname,filename))"
   ]
  },
  {
   "cell_type": "code",
   "execution_count": 2,
   "id": "dc4ccbe4",
   "metadata": {
    "execution": {
     "iopub.execute_input": "2024-03-06T15:08:14.122745Z",
     "iopub.status.busy": "2024-03-06T15:08:14.122472Z",
     "iopub.status.idle": "2024-03-06T15:08:17.593017Z",
     "shell.execute_reply": "2024-03-06T15:08:17.592157Z"
    },
    "id": "qQcG29JHi8Z7",
    "papermill": {
     "duration": 3.494847,
     "end_time": "2024-03-06T15:08:17.595416",
     "exception": false,
     "start_time": "2024-03-06T15:08:14.100569",
     "status": "completed"
    },
    "tags": []
   },
   "outputs": [],
   "source": [
    "import pandas as pd\n",
    "import numpy as np\n",
    "import pandas as pd\n",
    "import numpy as np\n",
    "from bs4 import BeautifulSoup\n",
    "import regex\n",
    "import re\n",
    "from nltk import word_tokenize, sent_tokenize\n",
    "from sklearn.model_selection import train_test_split\n",
    "from sklearn.naive_bayes import MultinomialNB\n",
    "from sklearn.feature_extraction.text import CountVectorizer\n",
    "from sklearn.pipeline import make_pipeline\n",
    "from sklearn.metrics import accuracy_score, classification_report, confusion_matrix\n",
    "from sklearn.model_selection import cross_val_score\n",
    "from sklearn.preprocessing import StandardScaler\n",
    "from sklearn.linear_model import LogisticRegression\n",
    "import matplotlib.pyplot as plt\n",
    "import seaborn as sns\n",
    "from sklearn.ensemble import RandomForestClassifier"
   ]
  },
  {
   "cell_type": "code",
   "execution_count": 3,
   "id": "01721ecf",
   "metadata": {
    "execution": {
     "iopub.execute_input": "2024-03-06T15:08:17.637758Z",
     "iopub.status.busy": "2024-03-06T15:08:17.637224Z",
     "iopub.status.idle": "2024-03-06T15:08:19.363679Z",
     "shell.execute_reply": "2024-03-06T15:08:19.362773Z"
    },
    "id": "dsyJaIwglOIp",
    "outputId": "3c1f0f46-0705-4ac4-809e-273a105eba4f",
    "papermill": {
     "duration": 1.750116,
     "end_time": "2024-03-06T15:08:19.365820",
     "exception": false,
     "start_time": "2024-03-06T15:08:17.615704",
     "status": "completed"
    },
    "tags": []
   },
   "outputs": [
    {
     "data": {
      "text/plain": [
       "(199706, 4)"
      ]
     },
     "execution_count": 3,
     "metadata": {},
     "output_type": "execute_result"
    }
   ],
   "source": [
    "df=pd.read_csv('/kaggle/input/news-classification-and-analysis-using-nlp/english_news_dataset.csv')\n",
    "df.shape"
   ]
  },
  {
   "cell_type": "code",
   "execution_count": 4,
   "id": "95654f63",
   "metadata": {
    "execution": {
     "iopub.execute_input": "2024-03-06T15:08:19.407450Z",
     "iopub.status.busy": "2024-03-06T15:08:19.406632Z",
     "iopub.status.idle": "2024-03-06T15:08:19.422966Z",
     "shell.execute_reply": "2024-03-06T15:08:19.422009Z"
    },
    "id": "fFtBXRqtDXG7",
    "outputId": "130b8d4f-3056-4b8f-d33a-429550c19aa0",
    "papermill": {
     "duration": 0.038791,
     "end_time": "2024-03-06T15:08:19.424914",
     "exception": false,
     "start_time": "2024-03-06T15:08:19.386123",
     "status": "completed"
    },
    "tags": []
   },
   "outputs": [
    {
     "data": {
      "text/html": [
       "<div>\n",
       "<style scoped>\n",
       "    .dataframe tbody tr th:only-of-type {\n",
       "        vertical-align: middle;\n",
       "    }\n",
       "\n",
       "    .dataframe tbody tr th {\n",
       "        vertical-align: top;\n",
       "    }\n",
       "\n",
       "    .dataframe thead th {\n",
       "        text-align: right;\n",
       "    }\n",
       "</style>\n",
       "<table border=\"1\" class=\"dataframe\">\n",
       "  <thead>\n",
       "    <tr style=\"text-align: right;\">\n",
       "      <th></th>\n",
       "      <th>Headline</th>\n",
       "      <th>Content</th>\n",
       "      <th>News Categories</th>\n",
       "      <th>Date</th>\n",
       "    </tr>\n",
       "  </thead>\n",
       "  <tbody>\n",
       "    <tr>\n",
       "      <th>0</th>\n",
       "      <td>Congress leader Baljinder Singh shot dead at h...</td>\n",
       "      <td>Congress leader Baljinder Singh was shot dead ...</td>\n",
       "      <td>['national']</td>\n",
       "      <td>19-09-2023</td>\n",
       "    </tr>\n",
       "    <tr>\n",
       "      <th>1</th>\n",
       "      <td>17-year-old girl preparing for NEET dies by su...</td>\n",
       "      <td>Another NEET aspirant died by suicide in Rajas...</td>\n",
       "      <td>['national']</td>\n",
       "      <td>19-09-2023</td>\n",
       "    </tr>\n",
       "    <tr>\n",
       "      <th>2</th>\n",
       "      <td>Hampers to welcome MPs in new Parliament tomor...</td>\n",
       "      <td>In order to mark the first-ever working day of...</td>\n",
       "      <td>['national']</td>\n",
       "      <td>19-09-2023</td>\n",
       "    </tr>\n",
       "    <tr>\n",
       "      <th>3</th>\n",
       "      <td>Only 10% women lawmakers in RS, while only 14%...</td>\n",
       "      <td>Congress President Mallikarjun Kharge, while s...</td>\n",
       "      <td>['national']</td>\n",
       "      <td>19-09-2023</td>\n",
       "    </tr>\n",
       "    <tr>\n",
       "      <th>4</th>\n",
       "      <td>Ganesh temple decorated with notes, coins wort...</td>\n",
       "      <td>The Sri Sathya Ganapathi Temple in Bengaluru a...</td>\n",
       "      <td>['national']</td>\n",
       "      <td>19-09-2023</td>\n",
       "    </tr>\n",
       "  </tbody>\n",
       "</table>\n",
       "</div>"
      ],
      "text/plain": [
       "                                            Headline  \\\n",
       "0  Congress leader Baljinder Singh shot dead at h...   \n",
       "1  17-year-old girl preparing for NEET dies by su...   \n",
       "2  Hampers to welcome MPs in new Parliament tomor...   \n",
       "3  Only 10% women lawmakers in RS, while only 14%...   \n",
       "4  Ganesh temple decorated with notes, coins wort...   \n",
       "\n",
       "                                             Content News Categories  \\\n",
       "0  Congress leader Baljinder Singh was shot dead ...    ['national']   \n",
       "1  Another NEET aspirant died by suicide in Rajas...    ['national']   \n",
       "2  In order to mark the first-ever working day of...    ['national']   \n",
       "3  Congress President Mallikarjun Kharge, while s...    ['national']   \n",
       "4  The Sri Sathya Ganapathi Temple in Bengaluru a...    ['national']   \n",
       "\n",
       "         Date  \n",
       "0  19-09-2023  \n",
       "1  19-09-2023  \n",
       "2  19-09-2023  \n",
       "3  19-09-2023  \n",
       "4  19-09-2023  "
      ]
     },
     "execution_count": 4,
     "metadata": {},
     "output_type": "execute_result"
    }
   ],
   "source": [
    "df.head()"
   ]
  },
  {
   "cell_type": "markdown",
   "id": "ca3bf5e3",
   "metadata": {
    "id": "FyqpW9TpI8rD",
    "papermill": {
     "duration": 0.019423,
     "end_time": "2024-03-06T15:08:19.463881",
     "exception": false,
     "start_time": "2024-03-06T15:08:19.444458",
     "status": "completed"
    },
    "tags": []
   },
   "source": [
    "# Category Grouped"
   ]
  },
  {
   "cell_type": "code",
   "execution_count": 5,
   "id": "4eed59d5",
   "metadata": {
    "execution": {
     "iopub.execute_input": "2024-03-06T15:08:19.504703Z",
     "iopub.status.busy": "2024-03-06T15:08:19.503983Z",
     "iopub.status.idle": "2024-03-06T15:08:19.970507Z",
     "shell.execute_reply": "2024-03-06T15:08:19.969395Z"
    },
    "id": "Lj8sns-YAw0W",
    "papermill": {
     "duration": 0.489673,
     "end_time": "2024-03-06T15:08:19.973205",
     "exception": false,
     "start_time": "2024-03-06T15:08:19.483532",
     "status": "completed"
    },
    "tags": []
   },
   "outputs": [],
   "source": [
    "from sklearn.model_selection import StratifiedKFold, cross_val_score\n",
    "threshold = 5\n",
    "\n",
    "# Identify classes with fewer instances\n",
    "class_counts = df['News Categories'].value_counts()\n",
    "rare_classes = class_counts[class_counts < threshold].index\n",
    "\n",
    "# Group rare classes into a broader category 'Other'\n",
    "df['category_grouped'] = df['News Categories'].apply(lambda x: 'Other' if x in rare_classes else x)"
   ]
  },
  {
   "cell_type": "code",
   "execution_count": 6,
   "id": "0bfcfd55",
   "metadata": {
    "execution": {
     "iopub.execute_input": "2024-03-06T15:08:20.018040Z",
     "iopub.status.busy": "2024-03-06T15:08:20.017452Z",
     "iopub.status.idle": "2024-03-06T15:08:20.025648Z",
     "shell.execute_reply": "2024-03-06T15:08:20.024651Z"
    },
    "id": "n0U98vYBBNzL",
    "outputId": "ceb807e4-2995-404b-e98b-c91f87bafd8e",
    "papermill": {
     "duration": 0.033029,
     "end_time": "2024-03-06T15:08:20.028023",
     "exception": false,
     "start_time": "2024-03-06T15:08:19.994994",
     "status": "completed"
    },
    "tags": []
   },
   "outputs": [
    {
     "data": {
      "text/plain": [
       "0                            ['national']\n",
       "1                            ['national']\n",
       "2                            ['national']\n",
       "3                            ['national']\n",
       "4                            ['national']\n",
       "                       ...               \n",
       "199701    ['science', 'Health___Fitness']\n",
       "199702    ['science', 'Health___Fitness']\n",
       "199703               ['Health___Fitness']\n",
       "199704    ['science', 'Health___Fitness']\n",
       "199705               ['Health___Fitness']\n",
       "Name: News Categories, Length: 199706, dtype: object"
      ]
     },
     "execution_count": 6,
     "metadata": {},
     "output_type": "execute_result"
    }
   ],
   "source": [
    "df[\"News Categories\"]"
   ]
  },
  {
   "cell_type": "code",
   "execution_count": 7,
   "id": "3dbe3cf3",
   "metadata": {
    "execution": {
     "iopub.execute_input": "2024-03-06T15:08:20.071127Z",
     "iopub.status.busy": "2024-03-06T15:08:20.070387Z",
     "iopub.status.idle": "2024-03-06T15:08:20.077694Z",
     "shell.execute_reply": "2024-03-06T15:08:20.076870Z"
    },
    "id": "8xPAgIaeBD3V",
    "outputId": "b6468f2f-9288-4d8f-dbbf-c449eb1c9ab6",
    "papermill": {
     "duration": 0.029786,
     "end_time": "2024-03-06T15:08:20.079642",
     "exception": false,
     "start_time": "2024-03-06T15:08:20.049856",
     "status": "completed"
    },
    "tags": []
   },
   "outputs": [
    {
     "data": {
      "text/plain": [
       "0                            ['national']\n",
       "1                            ['national']\n",
       "2                            ['national']\n",
       "3                            ['national']\n",
       "4                            ['national']\n",
       "                       ...               \n",
       "199701    ['science', 'Health___Fitness']\n",
       "199702    ['science', 'Health___Fitness']\n",
       "199703               ['Health___Fitness']\n",
       "199704    ['science', 'Health___Fitness']\n",
       "199705               ['Health___Fitness']\n",
       "Name: category_grouped, Length: 199706, dtype: object"
      ]
     },
     "execution_count": 7,
     "metadata": {},
     "output_type": "execute_result"
    }
   ],
   "source": [
    "df['category_grouped']"
   ]
  },
  {
   "cell_type": "code",
   "execution_count": 8,
   "id": "28657b31",
   "metadata": {
    "execution": {
     "iopub.execute_input": "2024-03-06T15:08:20.123286Z",
     "iopub.status.busy": "2024-03-06T15:08:20.122998Z",
     "iopub.status.idle": "2024-03-06T15:08:20.237156Z",
     "shell.execute_reply": "2024-03-06T15:08:20.235999Z"
    },
    "id": "px9opuJYlUyY",
    "outputId": "d3c15e23-dee8-4864-c981-88d2561e6c4c",
    "papermill": {
     "duration": 0.138342,
     "end_time": "2024-03-06T15:08:20.239119",
     "exception": false,
     "start_time": "2024-03-06T15:08:20.100777",
     "status": "completed"
    },
    "tags": []
   },
   "outputs": [
    {
     "name": "stdout",
     "output_type": "stream",
     "text": [
      "<class 'pandas.core.frame.DataFrame'>\n",
      "RangeIndex: 199706 entries, 0 to 199705\n",
      "Data columns (total 5 columns):\n",
      " #   Column            Non-Null Count   Dtype \n",
      "---  ------            --------------   ----- \n",
      " 0   Headline          199706 non-null  object\n",
      " 1   Content           199706 non-null  object\n",
      " 2   News Categories   199706 non-null  object\n",
      " 3   Date              199706 non-null  object\n",
      " 4   category_grouped  199706 non-null  object\n",
      "dtypes: object(5)\n",
      "memory usage: 7.6+ MB\n"
     ]
    }
   ],
   "source": [
    "df.info()"
   ]
  },
  {
   "cell_type": "code",
   "execution_count": 9,
   "id": "7655ffda",
   "metadata": {
    "execution": {
     "iopub.execute_input": "2024-03-06T15:08:20.280448Z",
     "iopub.status.busy": "2024-03-06T15:08:20.280167Z",
     "iopub.status.idle": "2024-03-06T15:08:20.381417Z",
     "shell.execute_reply": "2024-03-06T15:08:20.380626Z"
    },
    "id": "WfNuYVVZnLIT",
    "outputId": "9c4a8792-dd46-4d7d-825d-0700adbb4cac",
    "papermill": {
     "duration": 0.12374,
     "end_time": "2024-03-06T15:08:20.383269",
     "exception": false,
     "start_time": "2024-03-06T15:08:20.259529",
     "status": "completed"
    },
    "tags": []
   },
   "outputs": [
    {
     "data": {
      "text/plain": [
       "Headline            0\n",
       "Content             0\n",
       "News Categories     0\n",
       "Date                0\n",
       "category_grouped    0\n",
       "dtype: int64"
      ]
     },
     "execution_count": 9,
     "metadata": {},
     "output_type": "execute_result"
    }
   ],
   "source": [
    "df.isnull().sum()"
   ]
  },
  {
   "cell_type": "code",
   "execution_count": 10,
   "id": "f88b4444",
   "metadata": {
    "execution": {
     "iopub.execute_input": "2024-03-06T15:08:20.424818Z",
     "iopub.status.busy": "2024-03-06T15:08:20.424562Z",
     "iopub.status.idle": "2024-03-06T15:08:20.650922Z",
     "shell.execute_reply": "2024-03-06T15:08:20.650052Z"
    },
    "id": "3cQTKBLmnORD",
    "outputId": "86b3a763-9eb4-49da-dcda-633028931825",
    "papermill": {
     "duration": 0.249498,
     "end_time": "2024-03-06T15:08:20.653130",
     "exception": false,
     "start_time": "2024-03-06T15:08:20.403632",
     "status": "completed"
    },
    "tags": []
   },
   "outputs": [
    {
     "data": {
      "text/plain": [
       "35452"
      ]
     },
     "execution_count": 10,
     "metadata": {},
     "output_type": "execute_result"
    }
   ],
   "source": [
    "df.duplicated().sum()"
   ]
  },
  {
   "cell_type": "code",
   "execution_count": 11,
   "id": "20a75dc9",
   "metadata": {
    "execution": {
     "iopub.execute_input": "2024-03-06T15:08:20.695899Z",
     "iopub.status.busy": "2024-03-06T15:08:20.695567Z",
     "iopub.status.idle": "2024-03-06T15:08:20.702635Z",
     "shell.execute_reply": "2024-03-06T15:08:20.701842Z"
    },
    "id": "FOJ2evPMnR2j",
    "outputId": "f5a32f9a-8a30-4c21-f1e1-b2eedbf2f747",
    "papermill": {
     "duration": 0.030249,
     "end_time": "2024-03-06T15:08:20.704533",
     "exception": false,
     "start_time": "2024-03-06T15:08:20.674284",
     "status": "completed"
    },
    "tags": []
   },
   "outputs": [
    {
     "data": {
      "text/plain": [
       "0    19-09-2023\n",
       "1    19-09-2023\n",
       "2    19-09-2023\n",
       "3    19-09-2023\n",
       "4    19-09-2023\n",
       "Name: Date, dtype: object"
      ]
     },
     "execution_count": 11,
     "metadata": {},
     "output_type": "execute_result"
    }
   ],
   "source": [
    "df[\"Date\"].head()"
   ]
  },
  {
   "cell_type": "code",
   "execution_count": 12,
   "id": "05d9bad5",
   "metadata": {
    "execution": {
     "iopub.execute_input": "2024-03-06T15:08:20.747142Z",
     "iopub.status.busy": "2024-03-06T15:08:20.746886Z",
     "iopub.status.idle": "2024-03-06T15:08:20.772226Z",
     "shell.execute_reply": "2024-03-06T15:08:20.771382Z"
    },
    "id": "kSl-wd6unycp",
    "outputId": "124e2dec-9631-44d3-f944-3d47c81246f7",
    "papermill": {
     "duration": 0.048546,
     "end_time": "2024-03-06T15:08:20.774165",
     "exception": false,
     "start_time": "2024-03-06T15:08:20.725619",
     "status": "completed"
    },
    "tags": []
   },
   "outputs": [
    {
     "data": {
      "text/plain": [
       "\"['national']['entertainment', 'national']['politics', 'national']['world', 'national']['national', 'technology']['business', 'national']['sports', 'national']['world', 'national', 'Health___Fitness']['national', 'Health___Fitness']['business', 'technology']['business']['business', 'startup']['automobile', 'business', 'technology']['business', 'fashion']['world', 'business']['world', 'business', 'technology']['automobile', 'business']['business', 'entertainment', 'national']['world', 'business', 'national']['business', 'science', 'technology']['cryptocurrency', 'business', 'technology']['automobile', 'business', 'national']['politics']['politics', 'sports', 'Asia_Cup_2023']['politics', 'entertainment']['sports']['sports', 'entertainment']['sports', 'Asia_Cup_2023']['Asia_Cup_2023', 'sports']['sports', 'Asia_Cup_2023', 'entertainment']['technology']['world', 'technology']['cryptocurrency', 'technology']['science', 'technology']['entertainment', 'technology']['sports', 'technology']['automobile', 'technology']['startup', 'technology']['business', 'national', 'technology']['Health___Fitness', 'technology']['business', 'startup', 'technology']['startup']['startup', 'science']['startup', 'national']['automobile', 'startup']['sports', 'startup']['entertainment']['world', 'entertainment']['entertainment', 'fashion']['world']['world', 'Russia-Ukraine_Conflict']['world', 'fashion']['world', 'Coronavirus', 'Health___Fitness']['world', 'science']['world', 'education']['education', 'world']['automobile']['automobile', 'national']['automobile', 'startup', 'technology']['automobile', 'business', 'startup']['automobile', 'world', 'business']['automobile', 'world', 'technology']['automobile', 'world', 'business', 'national']['science']['science', 'national']['science', 'Health___Fitness']['world', 'science', 'national']['world', 'science', 'Health___Fitness']['world', 'travel']['technology', 'travel']['travel']['national', 'travel']['business', 'national', 'travel']['world', 'business', 'travel']['world', 'national', 'travel']['business', 'travel']['world', 'entertainment', 'travel']['Coronavirus', 'national', 'travel']['miscellaneous', 'travel']['hatke', 'travel']['startup', 'national', 'travel']['sports', 'national', 'travel']['automobile', 'technology', 'travel']['world', 'Coronavirus', 'travel']['miscellaneous']['miscellaneous', 'national']['miscellaneous', 'Health___Fitness']['world', 'miscellaneous']['miscellaneous', 'sports']['fashion']['national', 'fashion']['startup', 'fashion']['hatke', 'fashion']['world', 'entertainment', 'fashion']['sports', 'fashion']['technology', 'fashion']['education', 'national']['education']['world', 'education', 'national']['politics', 'education', 'national']['education', 'startup', 'national']['education', 'business']['education', 'technology']['education', 'world', 'national']['education', 'startup']['education', 'business', 'technology']['Health___Fitness']['Health___Fitness', 'national']['world', 'Health___Fitness']['business', 'Health___Fitness', 'national']['science', 'Health___Fitness', 'technology']['Coronavirus', 'national', 'Health___Fitness']['world', 'Coronavirus', 'science', 'Health___Fitness']['entertainment', 'Health___Fitness']['business', 'Health___Fitness']['world', 'business', 'Health___Fitness']['sports', 'Health___Fitness']['business', 'national', 'Health___Fitness']['startup', 'Health___Fitness']['sports', 'business', 'national']['world', 'entertainment', 'national']['cryptocurrency', 'business']['politics', 'world']['sports', 'Asian_Games_2022']['world', 'Coronavirus']['business', 'entertainment', 'startup', 'national']['business', 'entertainment']['politics', 'entertainment', 'national']['world', 'national', 'Russia-Ukraine_Conflict']['sports', 'ODI_World_Cup_2023']['Coronavirus', 'Health___Fitness']['politics', 'business']['politics', 'sports']['sports', 'national', 'Asian_Games_2022']['politics', 'sports', 'national']['sports', 'technology', 'Asian_Games_2022']['business', 'sports', 'ODI_World_Cup_2023']['entertainment', 'startup', 'national']['business', 'science']['world', 'national', 'technology']['business', 'sports', 'technology']['ODI_World_Cup_2023', 'sports']['politics', 'world', 'national']['startup', 'technology', 'fashion']['world', 'sports', 'national']['world', 'entertainment', 'technology']['sports', 'ODI_World_Cup_2023', 'entertainment']['business', 'sports']['sports', 'business', 'ODI_World_Cup_2023']['automobile', 'sports']['business', 'startup', 'national']['sports', 'ODI_World_Cup_2023', 'Asian_Games_2022']['politics', 'technology']['politics', 'national', 'technology']['sports', 'ODI_World_Cup_2023', 'national']['world', 'education', 'business']['world', 'national', 'Israel-Hamas_War']['education', 'world', 'business']['politics', 'sports', 'Asian_Games_2022']['politics', 'sports', 'ODI_World_Cup_2023']['politics', 'world', 'national', 'Israel-Hamas_War']['world', 'technology', 'Israel-Hamas_War']['entertainment', 'startup']['world', 'entertainment', 'Israel-Hamas_War']['world', 'Israel-Hamas_War']['business', 'ODI_World_Cup_2023', 'startup']['business', 'Israel-Hamas_War']['education', 'world', 'business', 'Israel-Hamas_War']['world', 'business', 'technology', 'Israel-Hamas_War']['world', 'education', 'business', 'Israel-Hamas_War']['world', 'business', 'Israel-Hamas_War']['politics', 'Israel-Hamas_War']['ODI_World_Cup_2023', 'sports', 'startup']['ODI_World_Cup_2023', 'sports', 'entertainment']['entertainment', 'Israel-Hamas_War']['politics', 'business', 'national']['sports', 'ODI_World_Cup_2023', 'Israel-Hamas_War']['world', 'sports', 'ODI_World_Cup_2023', 'Israel-Hamas_War']['automobile', 'technology', 'Israel-Hamas_War']['sports', 'science']['technology', 'Israel-Hamas_War']['politics', 'miscellaneous']['world', 'sports', 'ODI_World_Cup_2023', 'national']['business', 'startup', 'technology', 'facts']['business', 'technology', 'Israel-Hamas_War']['world', 'Russia-Ukraine_Conflict', 'Israel-Hamas_War']['all', 'myfeed', 'education']['politics', 'world', 'Israel-Hamas_War']['metaverse', 'national']['business', 'entertainment', 'startup', 'technology']['startup', 'technology', 'policy']['ODI_World_Cup_2023', 'national']['metaverse', 'business', 'technology']['cryptocurrency', 'business', 'national', 'technology']['politics', 'national', 'facts']['business', 'entertainment', 'startup', 'technology', 'policy']['business', 'startup', 'science', 'technology']['business', 'startup', 'technology', 'fashion']['automobile', 'business', 'startup', 'technology']['business', 'entertainment', 'technology', 'policy']['all', 'myfeed', 'sports', 'Asian_Games_2022']['all', 'sports', 'Asian_Games_2022']['all', 'sports']['automobile', 'entertainment']['startup', 'national', 'policy']['politics', 'hatke', 'national']['hatke', 'business', 'fashion']['business', 'sports', 'startup', 'technology']['business', 'startup', 'technology', 'policy']['business', 'entertainment', 'technology']['politics', 'education']['all', 'myfeed', 'sports']['metaverse', 'education', 'technology']['miscellaneous', 'fashion']['education', 'business', 'startup']['world', 'sports']['all', 'myfeed', 'sports', 'national']['automobile', 'business', 'startup', 'technology', 'travel']['all', 'metaverse', 'sports']['politics', 'national', 'Israel-Hamas_War']['hatke', 'national', 'technology']['business', 'startup', 'Health___Fitness']['business', 'startup', 'Health___Fitness', 'technology']['education', 'science', 'national']['politics', 'business', 'startup', 'technology']['myfeed', 'sports', 'Asian_Games_2022']['entertainment', 'startup', 'technology', 'policy']['entertainment', 'startup', 'technology']['national', 'Hockey_World_Cup_2023']['world', 'business', 'startup', 'technology']['business', 'startup', 'science']['Feel_Good_Stories', 'startup']['Feel_Good_Stories', 'miscellaneous']['sports', 'ODI_World_Cup_2023', 'national', 'Hockey_World_Cup_2023']['sports', 'business']['ODI_World_Cup_2023', 'startup']['Feel_Good_Stories', 'Health___Fitness', 'travel']['Feel_Good_Stories', 'miscellaneous', 'travel']['education', 'business', 'startup', 'technology']['business', 'startup', 'national', 'technology']['entertainment', 'national', 'technology']['business', 'startup', 'fashion']['sports', 'business', 'startup', 'technology']['hatke', 'entertainment', 'technology']['Feel_Good_Stories', 'world', 'travel']['Feel_Good_Stories', 'travel']['business', 'entertainment', 'startup']['business', 'startup', 'technology', 'travel']['sports', 'entertainment', 'technology']['miscellaneous', 'technology']['world', 'business', 'entertainment']['politics', 'miscellaneous', 'national']['automobile', 'business', 'technology', 'travel']['politics', 'world', 'entertainment']['sports', 'facts']['hatke', 'technology']['miscellaneous', 'national', 'technology']['education', 'science', 'national', 'technology']['ODI_World_Cup_2023', 'sports', 'national']['education', 'business', 'travel']['world', 'business', 'fashion']['education', 'startup', 'technology']['world', 'miscellaneous', 'Israel-Hamas_War']['miscellaneous', 'science']['politics', 'education', 'national', 'Health___Fitness']['business', 'sports', 'national']['education', 'business', 'national']['ODI_World_Cup_2023', 'business', 'startup', 'technology']['ODI_World_Cup_2023', 'sports', 'technology']['startup', 'Israel-Hamas_War']['ODI_World_Cup_2023', 'entertainment']['Feel_Good_Stories', 'education', 'Health___Fitness']['world', 'miscellaneous', 'education']['startup', 'Health___Fitness', 'technology']['automobile', 'business', 'sports']['world', 'miscellaneous', 'technology', 'Israel-Hamas_War']['miscellaneous', 'world', 'technology']['business', 'startup', 'travel']['Feel_Good_Stories', 'hatke', 'travel']['world', 'sports', 'ODI_World_Cup_2023']['Feel_Good_Stories', 'national']['hatke', 'entertainment', 'national']['ODI_World_Cup_2023', 'sports', 'business']['politics', 'ODI_World_Cup_2023']['politics', 'ODI_World_Cup_2023', 'sports']['Feel_Good_Stories', 'sports']['Feel_Good_Stories', 'education', 'technology']['world', 'miscellaneous', 'science', 'national', 'technology']['startup', 'science', 'technology']['miscellaneous', 'national', 'technology', 'fashion']['world', 'miscellaneous', 'technology']['Feel_Good_Stories', 'miscellaneous', 'entertainment']['hatke', 'world', 'miscellaneous']['world', 'miscellaneous', 'ODI_World_Cup_2023', 'sports', 'national']['education', 'miscellaneous', 'science', 'Health___Fitness']['world', 'science', 'national', 'technology']['business', 'national', 'Health___Fitness', 'travel']['miscellaneous', 'entertainment']['miscellaneous', 'national', 'Health___Fitness']['miscellaneous', 'ODI_World_Cup_2023', 'sports', 'national']['world', 'miscellaneous', 'sports', 'ODI_World_Cup_2023']['miscellaneous', 'ODI_World_Cup_2023']['Feel_Good_Stories', 'fashion']['education', 'national', 'Health___Fitness']['Feel_Good_Stories', 'world']['hatke', 'miscellaneous', 'entertainment', 'national']['Feel_Good_Stories', 'Health___Fitness', 'national']['Feel_Good_Stories', 'entertainment', 'national']['hatke', 'world', 'national']['sports', 'business', 'technology']['miscellaneous', 'business', 'startup']['Feel_Good_Stories', 'business']['business', 'science', 'fashion']['politics', 'education', 'miscellaneous', 'world']['politics', 'miscellaneous', 'education', 'national']['politics', 'Health___Fitness']['politics', 'miscellaneous', 'Health___Fitness', 'national']['Feel_Good_Stories', 'sports', 'travel']['sports', 'ODI_World_Cup_2023', 'technology']['sports', 'entertainment', 'travel']['Feel_Good_Stories', 'sports', 'national']['world', 'science', 'technology']['Feel_Good_Stories', 'entertainment']['hatke', 'world']['national', 'technology', 'travel']['Feel_Good_Stories', 'national', 'travel']['hatke', 'miscellaneous', 'national']['entertainment', 'Health___Fitness', 'fashion']['hatke', 'education', 'fashion']['hatke', 'national', 'fashion']['Feel_Good_Stories', 'hatke', 'fashion']['hatke', 'miscellaneous']['science', 'national', 'technology']['Feel_Good_Stories', 'hatke', 'national']['hatke', 'national']['hatke', 'world', 'national', 'Health___Fitness']['world', 'miscellaneous', 'education', 'national']['national', 'Health___Fitness', 'technology']['automobile', 'Feel_Good_Stories', 'hatke', 'national']['education', 'miscellaneous', 'business', 'national']['politics', 'education', 'miscellaneous', 'world', 'national', 'Russia-Ukraine_Conflict', 'Israel-Hamas_War']['education', 'miscellaneous', 'national']['miscellaneous', 'education', 'national']['politics', 'hatke', 'education', 'national', 'travel']['politics', 'education', 'miscellaneous', 'national']['politics', 'hatke', 'education', 'national']['politics', 'world', 'education']['hatke', 'sports', 'national']['hatke', 'education', 'science', 'national', 'technology']['Feel_Good_Stories', 'hatke', 'world']['Feel_Good_Stories', 'hatke', 'education', 'world', 'science', 'Health___Fitness', 'national']['Feel_Good_Stories', 'education']['hatke', 'national', 'travel']['Feel_Good_Stories', 'world', 'national']['politics', 'startup']['Feel_Good_Stories', 'hatke', 'education', 'business', 'entertainment', 'national']['Feel_Good_Stories', 'hatke', 'entertainment']['Feel_Good_Stories', 'miscellaneous', 'fashion']['hatke', 'education', 'national', 'fashion']['Feel_Good_Stories', 'hatke', 'education', 'national']['Feel_Good_Stories', 'politics', 'hatke', 'education', 'miscellaneous', 'national']['Feel_Good_Stories', 'politics', 'hatke', 'education', 'miscellaneous', 'entertainment', 'national', 'travel']['Feel_Good_Stories', 'hatke', 'education', 'miscellaneous', 'entertainment', 'national', 'travel', 'fashion']['Feel_Good_Stories', 'hatke', 'education', 'miscellaneous', 'national', 'travel']['Feel_Good_Stories', 'sports', 'technology']['hatke', 'world', 'entertainment']['hatke', 'miscellaneous', 'world']['Feel_Good_Stories', 'hatke', 'miscellaneous', 'travel']['Feel_Good_Stories', 'hatke', 'miscellaneous']['Feel_Good_Stories', 'hatke', 'world', 'national']['world', 'miscellaneous', 'national']['politics', 'education', 'world', 'technology']['world', 'startup', 'science', 'technology']['Feel_Good_Stories', 'hatke', 'entertainment', 'national']['miscellaneous', 'world']['world', 'miscellaneous', 'science', 'national']['hatke', 'miscellaneous', 'travel']['world', 'business', 'national', 'technology']['politics', 'hatke', 'education', 'miscellaneous', 'national']['Feel_Good_Stories', 'politics', 'education', 'miscellaneous', 'national']['politics', 'world', 'education', 'national']['education', 'miscellaneous', 'world', 'national']['world', 'Health___Fitness', 'national']['Feel_Good_Stories', 'miscellaneous', 'national']['education', 'world', 'national', 'technology']['world', 'business', 'startup']['politics', 'hatke', 'miscellaneous']['miscellaneous', 'entertainment', 'fashion']['world', 'Israel-Hamas_War', 'fashion']['world', 'sports', 'entertainment']['politics', 'education', 'world', 'national']['politics', 'world', 'education', 'miscellaneous', 'business', 'entertainment', 'science', 'national', 'technology']['Feel_Good_Stories', 'sports', 'Health___Fitness', 'national', 'travel']['Feel_Good_Stories', 'education', 'travel']['education', 'business', 'national', 'technology']['hatke', 'Health___Fitness', 'national']['automobile', 'politics', 'national', 'technology']['politics', 'Health___Fitness', 'national']['politics', 'world', 'education', 'science', 'national', 'technology']['world', 'Health___Fitness', 'national', 'technology']['Feel_Good_Stories', 'business', 'national']['Feel_Good_Stories', 'business', 'travel']['Feel_Good_Stories', 'sports', 'entertainment']['hatke', 'miscellaneous', 'entertainment']['Feel_Good_Stories', 'hatke', 'national', 'travel']['Feel_Good_Stories', 'miscellaneous', 'business', 'Health___Fitness']['miscellaneous', 'business']['politics', 'national', 'Health___Fitness']['sports', 'Israel-Hamas_War']['miscellaneous', 'entertainment', 'travel']['Feel_Good_Stories', 'world', 'science']['Feel_Good_Stories', 'science']['Feel_Good_Stories', 'miscellaneous', 'Health___Fitness']['Feel_Good_Stories', 'Health___Fitness']['politics', 'Feel_Good_Stories', 'education', 'miscellaneous', 'national']['politics', 'education', 'miscellaneous', 'sports', 'business', 'entertainment', 'technology', 'automobile', 'Feel_Good_Stories', 'hatke', 'world', 'science', 'national']['politics', 'miscellaneous', 'science', 'national']['Feel_Good_Stories', 'hatke', 'world', 'miscellaneous', 'business', 'national']['Feel_Good_Stories', 'hatke', 'business', 'national']['politics', 'world', 'business', 'fashion']['politics', 'miscellaneous', 'entertainment']['politics', 'world', 'fashion']['hatke', 'world', 'technology']['world', 'miscellaneous', 'entertainment']['world', 'entertainment', 'Health___Fitness']['Feel_Good_Stories', 'miscellaneous', 'entertainment', 'travel']['Feel_Good_Stories', 'hatke', 'miscellaneous', 'entertainment']['world', 'miscellaneous', 'Health___Fitness']['world', 'education', 'science', 'Health___Fitness']['Feel_Good_Stories', 'politics', 'education', 'entertainment', 'national']['world', 'business', 'travel', 'fashion']['sports', 'science', 'Health___Fitness']['Feel_Good_Stories', 'education', 'entertainment', 'travel']['entertainment', 'science']['education', 'world', 'Israel-Hamas_War']['education', 'travel']['Coronavirus', 'national']['hatke', 'miscellaneous', 'entertainment', 'national', 'travel']['business', 'national', 'fashion']['hatke', 'education', 'national']['politics', 'national', 'travel']['hatke', 'entertainment', 'national', 'travel']['hatke', 'entertainment', 'Health___Fitness', 'national']['Feel_Good_Stories', 'world', 'miscellaneous']['Feel_Good_Stories', 'miscellaneous', 'world', 'science']['miscellaneous', 'world', 'science']['Feel_Good_Stories', 'hatke', 'world', 'fashion']['automobile', 'world']['education', 'miscellaneous', 'travel']['education', 'miscellaneous']['hatke', 'miscellaneous', 'Health___Fitness']['miscellaneous', 'world', 'Health___Fitness']['hatke', 'business']['world', 'startup', 'technology']['world', 'business', 'Health___Fitness', 'national']['world', 'science', 'national', 'Health___Fitness']['automobile', 'science', 'technology']['Health___Fitness', 'travel']['world', 'startup']['Feel_Good_Stories', 'world', 'miscellaneous', 'technology']['cryptocurrency', 'world']['cryptocurrency', 'world', 'Russia-Ukraine_Conflict']['entertainment', 'travel']['hatke', 'national', 'Health___Fitness']['world', 'sports', 'Israel-Hamas_War']['sports', 'business', 'Health___Fitness']['startup', 'travel']['Health___Fitness', 'fashion']['education', 'miscellaneous', 'business', 'startup']['hatke', 'sports']['world', 'miscellaneous', 'national', 'technology']['miscellaneous', 'education']['politics', 'world', 'business', 'Israel-Hamas_War']['sports', 'travel']['hatke', 'entertainment']['Feel_Good_Stories', 'hatke', 'national', 'Health___Fitness']['sports', 'entertainment', 'national']['startup', 'national', 'Health___Fitness']['politics', 'hatke']['Feel_Good_Stories', 'politics', 'education', 'business', 'startup', 'Lifestyle']['politics', 'world', 'entertainment', 'national']['Feel_Good_Stories', 'business', 'entertainment']['education', 'world', 'miscellaneous']['automobile', 'miscellaneous']['miscellaneous', 'Lifestyle']['science', 'Health___Fitness', 'Lifestyle']['world', 'business', 'Russia-Ukraine_Conflict']['Lifestyle', 'technology']['Feel_Good_Stories', 'business', 'startup']['world', 'science', 'Health___Fitness', 'national']['Lifestyle', 'Health___Fitness']['Health___Fitness', 'Lifestyle']['miscellaneous', 'startup']['world', 'education', 'miscellaneous']['Lifestyle', 'fashion']['Coronavirus', 'science', 'Health___Fitness']['Feel_Good_Stories', 'Lifestyle', 'national', 'travel']['Health___Fitness', 'Lifestyle', 'national']['national', 'Lifestyle']['miscellaneous', 'business', 'startup', 'national']['politics', 'miscellaneous', 'business', 'startup', 'national']['politics', 'world', 'sports']['politics', 'world', 'travel']['education', 'science', 'technology']['entertainment', 'Lifestyle']['Lifestyle', 'travel']['cryptocurrency', 'world', 'business']['automobile', 'business', 'Lifestyle']['world', 'Lifestyle', 'national']['business', 'Lifestyle']['sports', 'Australian_Open_2024']['world', 'education', 'entertainment', 'technology']['hatke', 'miscellaneous', 'national', 'technology']['education', 'miscellaneous', 'entertainment', 'science', 'national', 'technology']['startup', 'Lifestyle']['business', 'startup', 'Lifestyle']['world', 'Lifestyle', 'fashion']['hatke', 'science']['Feel_Good_Stories', 'hatke', 'world', 'travel']['hatke', 'miscellaneous', 'business', 'national']['miscellaneous', 'Lifestyle', 'Health___Fitness']['entertainment', 'Lifestyle', 'fashion']['education', 'Health___Fitness']['Health___Fitness', 'Lifestyle', 'technology']['hatke', 'miscellaneous', 'business']['miscellaneous', 'science', 'national', 'Health___Fitness']['politics', 'science', 'national']['Feel_Good_Stories', 'hatke', 'world', 'national', 'travel']['world', 'Lifestyle', 'Health___Fitness']['world', 'miscellaneous', 'business']['Union_Budget_2024', 'business']['miscellaneous', 'entertainment', 'Lifestyle']['hatke', 'world', 'Lifestyle']['politics', 'education', 'world']\""
      ]
     },
     "execution_count": 12,
     "metadata": {},
     "output_type": "execute_result"
    }
   ],
   "source": [
    "df[\"News Categories\"].unique().sum()"
   ]
  },
  {
   "cell_type": "code",
   "execution_count": 13,
   "id": "d4546e69",
   "metadata": {
    "execution": {
     "iopub.execute_input": "2024-03-06T15:08:20.816629Z",
     "iopub.status.busy": "2024-03-06T15:08:20.816364Z",
     "iopub.status.idle": "2024-03-06T15:08:21.141750Z",
     "shell.execute_reply": "2024-03-06T15:08:21.140895Z"
    },
    "id": "BHGtyeQspf51",
    "outputId": "e3cb66d9-092f-4e5f-d8bc-75009c8c86b5",
    "papermill": {
     "duration": 0.349201,
     "end_time": "2024-03-06T15:08:21.144073",
     "exception": false,
     "start_time": "2024-03-06T15:08:20.794872",
     "status": "completed"
    },
    "tags": []
   },
   "outputs": [
    {
     "data": {
      "image/png": "[encoded data removed]",
      "text/plain": [
       "<Figure size 640x480 with 1 Axes>"
      ]
     },
     "metadata": {},
     "output_type": "display_data"
    }
   ],
   "source": [
    "import seaborn as sns\n",
    "import matplotlib.pyplot as plt\n",
    "top_n = 5\n",
    "top_categories = df['News Categories'].value_counts().nlargest(top_n).index\n",
    "\n",
    "df_top = df[df['News Categories'].isin(top_categories)]\n",
    "\n",
    "sns.countplot(x='News Categories', data=df_top, palette='viridis')\n",
    "plt.title(f'Top {top_n} News Categories')\n",
    "plt.xlabel('Categories')\n",
    "plt.xticks(rotation=45)\n",
    "plt.ylabel('Count')\n",
    "plt.show();"
   ]
  },
  {
   "cell_type": "code",
   "execution_count": 14,
   "id": "9831da35",
   "metadata": {
    "execution": {
     "iopub.execute_input": "2024-03-06T15:08:21.188960Z",
     "iopub.status.busy": "2024-03-06T15:08:21.188321Z",
     "iopub.status.idle": "2024-03-06T15:08:21.195510Z",
     "shell.execute_reply": "2024-03-06T15:08:21.194679Z"
    },
    "id": "T3jIXGVTqq4Z",
    "outputId": "2c3a4cdd-54f8-4224-c94b-79e1ef4da23e",
    "papermill": {
     "duration": 0.031647,
     "end_time": "2024-03-06T15:08:21.197413",
     "exception": false,
     "start_time": "2024-03-06T15:08:21.165766",
     "status": "completed"
    },
    "tags": []
   },
   "outputs": [
    {
     "data": {
      "text/plain": [
       "0                            ['national']\n",
       "1                            ['national']\n",
       "2                            ['national']\n",
       "3                            ['national']\n",
       "4                            ['national']\n",
       "                       ...               \n",
       "199701    ['science', 'Health___Fitness']\n",
       "199702    ['science', 'Health___Fitness']\n",
       "199703               ['Health___Fitness']\n",
       "199704    ['science', 'Health___Fitness']\n",
       "199705               ['Health___Fitness']\n",
       "Name: News Categories, Length: 199706, dtype: object"
      ]
     },
     "execution_count": 14,
     "metadata": {},
     "output_type": "execute_result"
    }
   ],
   "source": [
    "df['News Categories']"
   ]
  },
  {
   "cell_type": "code",
   "execution_count": 15,
   "id": "1754b7ed",
   "metadata": {
    "execution": {
     "iopub.execute_input": "2024-03-06T15:08:21.242964Z",
     "iopub.status.busy": "2024-03-06T15:08:21.242222Z",
     "iopub.status.idle": "2024-03-06T15:08:21.246355Z",
     "shell.execute_reply": "2024-03-06T15:08:21.245524Z"
    },
    "id": "mDM7R0PYs7Fy",
    "papermill": {
     "duration": 0.028168,
     "end_time": "2024-03-06T15:08:21.248318",
     "exception": false,
     "start_time": "2024-03-06T15:08:21.220150",
     "status": "completed"
    },
    "tags": []
   },
   "outputs": [],
   "source": [
    "import string\n",
    "string.punctuation\n",
    "punc=string.punctuation"
   ]
  },
  {
   "cell_type": "code",
   "execution_count": 16,
   "id": "6ccb5acc",
   "metadata": {
    "execution": {
     "iopub.execute_input": "2024-03-06T15:08:21.292034Z",
     "iopub.status.busy": "2024-03-06T15:08:21.291743Z",
     "iopub.status.idle": "2024-03-06T15:08:21.926943Z",
     "shell.execute_reply": "2024-03-06T15:08:21.925968Z"
    },
    "id": "2R92OyY4sxjv",
    "outputId": "2eeb0442-4bee-424e-ec84-e647d2584621",
    "papermill": {
     "duration": 0.659824,
     "end_time": "2024-03-06T15:08:21.929457",
     "exception": false,
     "start_time": "2024-03-06T15:08:21.269633",
     "status": "completed"
    },
    "tags": []
   },
   "outputs": [
    {
     "data": {
      "text/html": [
       "<div>\n",
       "<style scoped>\n",
       "    .dataframe tbody tr th:only-of-type {\n",
       "        vertical-align: middle;\n",
       "    }\n",
       "\n",
       "    .dataframe tbody tr th {\n",
       "        vertical-align: top;\n",
       "    }\n",
       "\n",
       "    .dataframe thead th {\n",
       "        text-align: right;\n",
       "    }\n",
       "</style>\n",
       "<table border=\"1\" class=\"dataframe\">\n",
       "  <thead>\n",
       "    <tr style=\"text-align: right;\">\n",
       "      <th></th>\n",
       "      <th>Headline</th>\n",
       "      <th>Content</th>\n",
       "      <th>News Categories</th>\n",
       "      <th>Date</th>\n",
       "      <th>category_grouped</th>\n",
       "    </tr>\n",
       "  </thead>\n",
       "  <tbody>\n",
       "    <tr>\n",
       "      <th>0</th>\n",
       "      <td>Congress leader Baljinder Singh shot dead at h...</td>\n",
       "      <td>Congress leader Baljinder Singh was shot dead ...</td>\n",
       "      <td>national</td>\n",
       "      <td>19-09-2023</td>\n",
       "      <td>['national']</td>\n",
       "    </tr>\n",
       "    <tr>\n",
       "      <th>1</th>\n",
       "      <td>17-year-old girl preparing for NEET dies by su...</td>\n",
       "      <td>Another NEET aspirant died by suicide in Rajas...</td>\n",
       "      <td>national</td>\n",
       "      <td>19-09-2023</td>\n",
       "      <td>['national']</td>\n",
       "    </tr>\n",
       "    <tr>\n",
       "      <th>2</th>\n",
       "      <td>Hampers to welcome MPs in new Parliament tomor...</td>\n",
       "      <td>In order to mark the first-ever working day of...</td>\n",
       "      <td>national</td>\n",
       "      <td>19-09-2023</td>\n",
       "      <td>['national']</td>\n",
       "    </tr>\n",
       "    <tr>\n",
       "      <th>3</th>\n",
       "      <td>Only 10% women lawmakers in RS, while only 14%...</td>\n",
       "      <td>Congress President Mallikarjun Kharge, while s...</td>\n",
       "      <td>national</td>\n",
       "      <td>19-09-2023</td>\n",
       "      <td>['national']</td>\n",
       "    </tr>\n",
       "    <tr>\n",
       "      <th>4</th>\n",
       "      <td>Ganesh temple decorated with notes, coins wort...</td>\n",
       "      <td>The Sri Sathya Ganapathi Temple in Bengaluru a...</td>\n",
       "      <td>national</td>\n",
       "      <td>19-09-2023</td>\n",
       "      <td>['national']</td>\n",
       "    </tr>\n",
       "  </tbody>\n",
       "</table>\n",
       "</div>"
      ],
      "text/plain": [
       "                                            Headline  \\\n",
       "0  Congress leader Baljinder Singh shot dead at h...   \n",
       "1  17-year-old girl preparing for NEET dies by su...   \n",
       "2  Hampers to welcome MPs in new Parliament tomor...   \n",
       "3  Only 10% women lawmakers in RS, while only 14%...   \n",
       "4  Ganesh temple decorated with notes, coins wort...   \n",
       "\n",
       "                                             Content News Categories  \\\n",
       "0  Congress leader Baljinder Singh was shot dead ...        national   \n",
       "1  Another NEET aspirant died by suicide in Rajas...        national   \n",
       "2  In order to mark the first-ever working day of...        national   \n",
       "3  Congress President Mallikarjun Kharge, while s...        national   \n",
       "4  The Sri Sathya Ganapathi Temple in Bengaluru a...        national   \n",
       "\n",
       "         Date category_grouped  \n",
       "0  19-09-2023     ['national']  \n",
       "1  19-09-2023     ['national']  \n",
       "2  19-09-2023     ['national']  \n",
       "3  19-09-2023     ['national']  \n",
       "4  19-09-2023     ['national']  "
      ]
     },
     "execution_count": 16,
     "metadata": {},
     "output_type": "execute_result"
    }
   ],
   "source": [
    "def remove_punc(text):\n",
    "    return text.translate(str.maketrans('', '',punc))\n",
    "\n",
    "df[\"News Categories\"]=df[\"News Categories\"].apply(remove_punc)\n",
    "df.head()"
   ]
  },
  {
   "cell_type": "code",
   "execution_count": 17,
   "id": "c96b9239",
   "metadata": {
    "execution": {
     "iopub.execute_input": "2024-03-06T15:08:21.976331Z",
     "iopub.status.busy": "2024-03-06T15:08:21.975991Z",
     "iopub.status.idle": "2024-03-06T15:08:22.045375Z",
     "shell.execute_reply": "2024-03-06T15:08:22.044374Z"
    },
    "id": "Pxx9-i6dxx7B",
    "outputId": "4cc2e780-9465-48d9-c9c6-1cfa785d389a",
    "papermill": {
     "duration": 0.09497,
     "end_time": "2024-03-06T15:08:22.047819",
     "exception": false,
     "start_time": "2024-03-06T15:08:21.952849",
     "status": "completed"
    },
    "tags": []
   },
   "outputs": [
    {
     "data": {
      "text/html": [
       "<div>\n",
       "<style scoped>\n",
       "    .dataframe tbody tr th:only-of-type {\n",
       "        vertical-align: middle;\n",
       "    }\n",
       "\n",
       "    .dataframe tbody tr th {\n",
       "        vertical-align: top;\n",
       "    }\n",
       "\n",
       "    .dataframe thead th {\n",
       "        text-align: right;\n",
       "    }\n",
       "</style>\n",
       "<table border=\"1\" class=\"dataframe\">\n",
       "  <thead>\n",
       "    <tr style=\"text-align: right;\">\n",
       "      <th></th>\n",
       "      <th>Headline</th>\n",
       "      <th>Content</th>\n",
       "      <th>News Categories</th>\n",
       "      <th>Date</th>\n",
       "      <th>category_grouped</th>\n",
       "      <th>year</th>\n",
       "      <th>month</th>\n",
       "      <th>day</th>\n",
       "    </tr>\n",
       "  </thead>\n",
       "  <tbody>\n",
       "    <tr>\n",
       "      <th>0</th>\n",
       "      <td>Congress leader Baljinder Singh shot dead at h...</td>\n",
       "      <td>Congress leader Baljinder Singh was shot dead ...</td>\n",
       "      <td>national</td>\n",
       "      <td>2023-09-19</td>\n",
       "      <td>['national']</td>\n",
       "      <td>2023</td>\n",
       "      <td>9</td>\n",
       "      <td>19</td>\n",
       "    </tr>\n",
       "    <tr>\n",
       "      <th>1</th>\n",
       "      <td>17-year-old girl preparing for NEET dies by su...</td>\n",
       "      <td>Another NEET aspirant died by suicide in Rajas...</td>\n",
       "      <td>national</td>\n",
       "      <td>2023-09-19</td>\n",
       "      <td>['national']</td>\n",
       "      <td>2023</td>\n",
       "      <td>9</td>\n",
       "      <td>19</td>\n",
       "    </tr>\n",
       "    <tr>\n",
       "      <th>2</th>\n",
       "      <td>Hampers to welcome MPs in new Parliament tomor...</td>\n",
       "      <td>In order to mark the first-ever working day of...</td>\n",
       "      <td>national</td>\n",
       "      <td>2023-09-19</td>\n",
       "      <td>['national']</td>\n",
       "      <td>2023</td>\n",
       "      <td>9</td>\n",
       "      <td>19</td>\n",
       "    </tr>\n",
       "    <tr>\n",
       "      <th>3</th>\n",
       "      <td>Only 10% women lawmakers in RS, while only 14%...</td>\n",
       "      <td>Congress President Mallikarjun Kharge, while s...</td>\n",
       "      <td>national</td>\n",
       "      <td>2023-09-19</td>\n",
       "      <td>['national']</td>\n",
       "      <td>2023</td>\n",
       "      <td>9</td>\n",
       "      <td>19</td>\n",
       "    </tr>\n",
       "    <tr>\n",
       "      <th>4</th>\n",
       "      <td>Ganesh temple decorated with notes, coins wort...</td>\n",
       "      <td>The Sri Sathya Ganapathi Temple in Bengaluru a...</td>\n",
       "      <td>national</td>\n",
       "      <td>2023-09-19</td>\n",
       "      <td>['national']</td>\n",
       "      <td>2023</td>\n",
       "      <td>9</td>\n",
       "      <td>19</td>\n",
       "    </tr>\n",
       "  </tbody>\n",
       "</table>\n",
       "</div>"
      ],
      "text/plain": [
       "                                            Headline  \\\n",
       "0  Congress leader Baljinder Singh shot dead at h...   \n",
       "1  17-year-old girl preparing for NEET dies by su...   \n",
       "2  Hampers to welcome MPs in new Parliament tomor...   \n",
       "3  Only 10% women lawmakers in RS, while only 14%...   \n",
       "4  Ganesh temple decorated with notes, coins wort...   \n",
       "\n",
       "                                             Content News Categories  \\\n",
       "0  Congress leader Baljinder Singh was shot dead ...        national   \n",
       "1  Another NEET aspirant died by suicide in Rajas...        national   \n",
       "2  In order to mark the first-ever working day of...        national   \n",
       "3  Congress President Mallikarjun Kharge, while s...        national   \n",
       "4  The Sri Sathya Ganapathi Temple in Bengaluru a...        national   \n",
       "\n",
       "        Date category_grouped  year  month  day  \n",
       "0 2023-09-19     ['national']  2023      9   19  \n",
       "1 2023-09-19     ['national']  2023      9   19  \n",
       "2 2023-09-19     ['national']  2023      9   19  \n",
       "3 2023-09-19     ['national']  2023      9   19  \n",
       "4 2023-09-19     ['national']  2023      9   19  "
      ]
     },
     "execution_count": 17,
     "metadata": {},
     "output_type": "execute_result"
    }
   ],
   "source": [
    "df['Date'] = pd.to_datetime(df['Date'],format='mixed',dayfirst=True)\n",
    "\n",
    "df['year'] = df['Date'].dt.year\n",
    "df['month'] = df['Date'].dt.month\n",
    "df['day'] = df['Date'].dt.day\n",
    "\n",
    "df.head()"
   ]
  },
  {
   "cell_type": "code",
   "execution_count": 18,
   "id": "b9c9490d",
   "metadata": {
    "execution": {
     "iopub.execute_input": "2024-03-06T15:08:22.135782Z",
     "iopub.status.busy": "2024-03-06T15:08:22.135091Z",
     "iopub.status.idle": "2024-03-06T15:08:22.156040Z",
     "shell.execute_reply": "2024-03-06T15:08:22.155296Z"
    },
    "id": "1eaEYGt4yNQm",
    "papermill": {
     "duration": 0.045858,
     "end_time": "2024-03-06T15:08:22.158084",
     "exception": false,
     "start_time": "2024-03-06T15:08:22.112226",
     "status": "completed"
    },
    "tags": []
   },
   "outputs": [],
   "source": [
    "df=df.drop('Date',axis=1)"
   ]
  },
  {
   "cell_type": "code",
   "execution_count": 19,
   "id": "c2495d68",
   "metadata": {
    "execution": {
     "iopub.execute_input": "2024-03-06T15:08:22.202835Z",
     "iopub.status.busy": "2024-03-06T15:08:22.202560Z",
     "iopub.status.idle": "2024-03-06T15:08:22.214426Z",
     "shell.execute_reply": "2024-03-06T15:08:22.213595Z"
    },
    "id": "IWocuN11tecc",
    "outputId": "01038d7f-18df-4c09-8bbb-41d02bd82bd7",
    "papermill": {
     "duration": 0.036515,
     "end_time": "2024-03-06T15:08:22.216297",
     "exception": false,
     "start_time": "2024-03-06T15:08:22.179782",
     "status": "completed"
    },
    "tags": []
   },
   "outputs": [
    {
     "data": {
      "text/html": [
       "<div>\n",
       "<style scoped>\n",
       "    .dataframe tbody tr th:only-of-type {\n",
       "        vertical-align: middle;\n",
       "    }\n",
       "\n",
       "    .dataframe tbody tr th {\n",
       "        vertical-align: top;\n",
       "    }\n",
       "\n",
       "    .dataframe thead th {\n",
       "        text-align: right;\n",
       "    }\n",
       "</style>\n",
       "<table border=\"1\" class=\"dataframe\">\n",
       "  <thead>\n",
       "    <tr style=\"text-align: right;\">\n",
       "      <th></th>\n",
       "      <th>Headline</th>\n",
       "      <th>Content</th>\n",
       "      <th>News Categories</th>\n",
       "      <th>category_grouped</th>\n",
       "      <th>year</th>\n",
       "      <th>month</th>\n",
       "      <th>day</th>\n",
       "    </tr>\n",
       "  </thead>\n",
       "  <tbody>\n",
       "    <tr>\n",
       "      <th>0</th>\n",
       "      <td>Congress leader Baljinder Singh shot dead at h...</td>\n",
       "      <td>Congress leader Baljinder Singh was shot dead ...</td>\n",
       "      <td>national</td>\n",
       "      <td>['national']</td>\n",
       "      <td>2023</td>\n",
       "      <td>9</td>\n",
       "      <td>19</td>\n",
       "    </tr>\n",
       "    <tr>\n",
       "      <th>1</th>\n",
       "      <td>17-year-old girl preparing for NEET dies by su...</td>\n",
       "      <td>Another NEET aspirant died by suicide in Rajas...</td>\n",
       "      <td>national</td>\n",
       "      <td>['national']</td>\n",
       "      <td>2023</td>\n",
       "      <td>9</td>\n",
       "      <td>19</td>\n",
       "    </tr>\n",
       "    <tr>\n",
       "      <th>2</th>\n",
       "      <td>Hampers to welcome MPs in new Parliament tomor...</td>\n",
       "      <td>In order to mark the first-ever working day of...</td>\n",
       "      <td>national</td>\n",
       "      <td>['national']</td>\n",
       "      <td>2023</td>\n",
       "      <td>9</td>\n",
       "      <td>19</td>\n",
       "    </tr>\n",
       "    <tr>\n",
       "      <th>3</th>\n",
       "      <td>Only 10% women lawmakers in RS, while only 14%...</td>\n",
       "      <td>Congress President Mallikarjun Kharge, while s...</td>\n",
       "      <td>national</td>\n",
       "      <td>['national']</td>\n",
       "      <td>2023</td>\n",
       "      <td>9</td>\n",
       "      <td>19</td>\n",
       "    </tr>\n",
       "    <tr>\n",
       "      <th>4</th>\n",
       "      <td>Ganesh temple decorated with notes, coins wort...</td>\n",
       "      <td>The Sri Sathya Ganapathi Temple in Bengaluru a...</td>\n",
       "      <td>national</td>\n",
       "      <td>['national']</td>\n",
       "      <td>2023</td>\n",
       "      <td>9</td>\n",
       "      <td>19</td>\n",
       "    </tr>\n",
       "  </tbody>\n",
       "</table>\n",
       "</div>"
      ],
      "text/plain": [
       "                                            Headline  \\\n",
       "0  Congress leader Baljinder Singh shot dead at h...   \n",
       "1  17-year-old girl preparing for NEET dies by su...   \n",
       "2  Hampers to welcome MPs in new Parliament tomor...   \n",
       "3  Only 10% women lawmakers in RS, while only 14%...   \n",
       "4  Ganesh temple decorated with notes, coins wort...   \n",
       "\n",
       "                                             Content News Categories  \\\n",
       "0  Congress leader Baljinder Singh was shot dead ...        national   \n",
       "1  Another NEET aspirant died by suicide in Rajas...        national   \n",
       "2  In order to mark the first-ever working day of...        national   \n",
       "3  Congress President Mallikarjun Kharge, while s...        national   \n",
       "4  The Sri Sathya Ganapathi Temple in Bengaluru a...        national   \n",
       "\n",
       "  category_grouped  year  month  day  \n",
       "0     ['national']  2023      9   19  \n",
       "1     ['national']  2023      9   19  \n",
       "2     ['national']  2023      9   19  \n",
       "3     ['national']  2023      9   19  \n",
       "4     ['national']  2023      9   19  "
      ]
     },
     "execution_count": 19,
     "metadata": {},
     "output_type": "execute_result"
    }
   ],
   "source": [
    "df.head()"
   ]
  },
  {
   "cell_type": "markdown",
   "id": "210abada",
   "metadata": {
    "id": "g8yAr_Vm0SdT",
    "papermill": {
     "duration": 0.022611,
     "end_time": "2024-03-06T15:08:22.261513",
     "exception": false,
     "start_time": "2024-03-06T15:08:22.238902",
     "status": "completed"
    },
    "tags": []
   },
   "source": [
    "# Text preperation"
   ]
  },
  {
   "cell_type": "markdown",
   "id": "69b36a30",
   "metadata": {
    "id": "7QzACkxL0ZMH",
    "papermill": {
     "duration": 0.021801,
     "end_time": "2024-03-06T15:08:22.305601",
     "exception": false,
     "start_time": "2024-03-06T15:08:22.283800",
     "status": "completed"
    },
    "tags": []
   },
   "source": [
    "##1- lower case"
   ]
  },
  {
   "cell_type": "code",
   "execution_count": 20,
   "id": "5368b528",
   "metadata": {
    "execution": {
     "iopub.execute_input": "2024-03-06T15:08:22.351063Z",
     "iopub.status.busy": "2024-03-06T15:08:22.350749Z",
     "iopub.status.idle": "2024-03-06T15:08:22.619284Z",
     "shell.execute_reply": "2024-03-06T15:08:22.618365Z"
    },
    "id": "7tVYwnQKwJS5",
    "outputId": "8305dfb9-3df2-45cf-ac32-3d63250614d8",
    "papermill": {
     "duration": 0.293535,
     "end_time": "2024-03-06T15:08:22.621434",
     "exception": false,
     "start_time": "2024-03-06T15:08:22.327899",
     "status": "completed"
    },
    "tags": []
   },
   "outputs": [
    {
     "data": {
      "text/html": [
       "<div>\n",
       "<style scoped>\n",
       "    .dataframe tbody tr th:only-of-type {\n",
       "        vertical-align: middle;\n",
       "    }\n",
       "\n",
       "    .dataframe tbody tr th {\n",
       "        vertical-align: top;\n",
       "    }\n",
       "\n",
       "    .dataframe thead th {\n",
       "        text-align: right;\n",
       "    }\n",
       "</style>\n",
       "<table border=\"1\" class=\"dataframe\">\n",
       "  <thead>\n",
       "    <tr style=\"text-align: right;\">\n",
       "      <th></th>\n",
       "      <th>Headline</th>\n",
       "      <th>Content</th>\n",
       "      <th>News Categories</th>\n",
       "      <th>category_grouped</th>\n",
       "      <th>year</th>\n",
       "      <th>month</th>\n",
       "      <th>day</th>\n",
       "    </tr>\n",
       "  </thead>\n",
       "  <tbody>\n",
       "    <tr>\n",
       "      <th>0</th>\n",
       "      <td>Congress leader Baljinder Singh shot dead at h...</td>\n",
       "      <td>congress leader baljinder singh was shot dead ...</td>\n",
       "      <td>national</td>\n",
       "      <td>['national']</td>\n",
       "      <td>2023</td>\n",
       "      <td>9</td>\n",
       "      <td>19</td>\n",
       "    </tr>\n",
       "    <tr>\n",
       "      <th>1</th>\n",
       "      <td>17-year-old girl preparing for NEET dies by su...</td>\n",
       "      <td>another neet aspirant died by suicide in rajas...</td>\n",
       "      <td>national</td>\n",
       "      <td>['national']</td>\n",
       "      <td>2023</td>\n",
       "      <td>9</td>\n",
       "      <td>19</td>\n",
       "    </tr>\n",
       "    <tr>\n",
       "      <th>2</th>\n",
       "      <td>Hampers to welcome MPs in new Parliament tomor...</td>\n",
       "      <td>in order to mark the first-ever working day of...</td>\n",
       "      <td>national</td>\n",
       "      <td>['national']</td>\n",
       "      <td>2023</td>\n",
       "      <td>9</td>\n",
       "      <td>19</td>\n",
       "    </tr>\n",
       "    <tr>\n",
       "      <th>3</th>\n",
       "      <td>Only 10% women lawmakers in RS, while only 14%...</td>\n",
       "      <td>congress president mallikarjun kharge, while s...</td>\n",
       "      <td>national</td>\n",
       "      <td>['national']</td>\n",
       "      <td>2023</td>\n",
       "      <td>9</td>\n",
       "      <td>19</td>\n",
       "    </tr>\n",
       "    <tr>\n",
       "      <th>4</th>\n",
       "      <td>Ganesh temple decorated with notes, coins wort...</td>\n",
       "      <td>the sri sathya ganapathi temple in bengaluru a...</td>\n",
       "      <td>national</td>\n",
       "      <td>['national']</td>\n",
       "      <td>2023</td>\n",
       "      <td>9</td>\n",
       "      <td>19</td>\n",
       "    </tr>\n",
       "  </tbody>\n",
       "</table>\n",
       "</div>"
      ],
      "text/plain": [
       "                                            Headline  \\\n",
       "0  Congress leader Baljinder Singh shot dead at h...   \n",
       "1  17-year-old girl preparing for NEET dies by su...   \n",
       "2  Hampers to welcome MPs in new Parliament tomor...   \n",
       "3  Only 10% women lawmakers in RS, while only 14%...   \n",
       "4  Ganesh temple decorated with notes, coins wort...   \n",
       "\n",
       "                                             Content News Categories  \\\n",
       "0  congress leader baljinder singh was shot dead ...        national   \n",
       "1  another neet aspirant died by suicide in rajas...        national   \n",
       "2  in order to mark the first-ever working day of...        national   \n",
       "3  congress president mallikarjun kharge, while s...        national   \n",
       "4  the sri sathya ganapathi temple in bengaluru a...        national   \n",
       "\n",
       "  category_grouped  year  month  day  \n",
       "0     ['national']  2023      9   19  \n",
       "1     ['national']  2023      9   19  \n",
       "2     ['national']  2023      9   19  \n",
       "3     ['national']  2023      9   19  \n",
       "4     ['national']  2023      9   19  "
      ]
     },
     "execution_count": 20,
     "metadata": {},
     "output_type": "execute_result"
    }
   ],
   "source": [
    "df[\"Content\"]=df[\"Content\"].str.lower()\n",
    "df.head()"
   ]
  },
  {
   "cell_type": "markdown",
   "id": "2985ea43",
   "metadata": {
    "id": "-OrBBRr80kPt",
    "papermill": {
     "duration": 0.023976,
     "end_time": "2024-03-06T15:08:22.669472",
     "exception": false,
     "start_time": "2024-03-06T15:08:22.645496",
     "status": "completed"
    },
    "tags": []
   },
   "source": [
    "# 2- remove html tags"
   ]
  },
  {
   "cell_type": "code",
   "execution_count": 21,
   "id": "fe253c1d",
   "metadata": {
    "execution": {
     "iopub.execute_input": "2024-03-06T15:08:22.715569Z",
     "iopub.status.busy": "2024-03-06T15:08:22.714988Z",
     "iopub.status.idle": "2024-03-06T15:08:22.718937Z",
     "shell.execute_reply": "2024-03-06T15:08:22.718010Z"
    },
    "id": "lHzEwVHc0hlr",
    "papermill": {
     "duration": 0.02911,
     "end_time": "2024-03-06T15:08:22.720911",
     "exception": false,
     "start_time": "2024-03-06T15:08:22.691801",
     "status": "completed"
    },
    "tags": []
   },
   "outputs": [],
   "source": [
    "# !pip install beautifulsoup4"
   ]
  },
  {
   "cell_type": "code",
   "execution_count": 22,
   "id": "412e6ae4",
   "metadata": {
    "execution": {
     "iopub.execute_input": "2024-03-06T15:08:22.767939Z",
     "iopub.status.busy": "2024-03-06T15:08:22.767662Z",
     "iopub.status.idle": "2024-03-06T15:08:34.576948Z",
     "shell.execute_reply": "2024-03-06T15:08:34.576140Z"
    },
    "id": "hFW5-Pxj0mMj",
    "papermill": {
     "duration": 11.836003,
     "end_time": "2024-03-06T15:08:34.579314",
     "exception": false,
     "start_time": "2024-03-06T15:08:22.743311",
     "status": "completed"
    },
    "tags": []
   },
   "outputs": [],
   "source": [
    "from bs4 import BeautifulSoup\n",
    "\n",
    "## check if there is html tags\n",
    "\n",
    "def has_html_tags(text):\n",
    "    soup = BeautifulSoup(text, 'html.parser')\n",
    "    return bool(soup.find())\n",
    "\n",
    "df['has_html_tags'] = df['Content'].apply(has_html_tags)"
   ]
  },
  {
   "cell_type": "code",
   "execution_count": 23,
   "id": "43b92aba",
   "metadata": {
    "execution": {
     "iopub.execute_input": "2024-03-06T15:08:34.628342Z",
     "iopub.status.busy": "2024-03-06T15:08:34.627623Z",
     "iopub.status.idle": "2024-03-06T15:08:34.640813Z",
     "shell.execute_reply": "2024-03-06T15:08:34.639863Z"
    },
    "id": "5zsU3huM1g7K",
    "outputId": "08669323-8f6c-4276-b834-122a00963959",
    "papermill": {
     "duration": 0.039529,
     "end_time": "2024-03-06T15:08:34.642745",
     "exception": false,
     "start_time": "2024-03-06T15:08:34.603216",
     "status": "completed"
    },
    "tags": []
   },
   "outputs": [
    {
     "data": {
      "text/html": [
       "<div>\n",
       "<style scoped>\n",
       "    .dataframe tbody tr th:only-of-type {\n",
       "        vertical-align: middle;\n",
       "    }\n",
       "\n",
       "    .dataframe tbody tr th {\n",
       "        vertical-align: top;\n",
       "    }\n",
       "\n",
       "    .dataframe thead th {\n",
       "        text-align: right;\n",
       "    }\n",
       "</style>\n",
       "<table border=\"1\" class=\"dataframe\">\n",
       "  <thead>\n",
       "    <tr style=\"text-align: right;\">\n",
       "      <th></th>\n",
       "      <th>Headline</th>\n",
       "      <th>Content</th>\n",
       "      <th>News Categories</th>\n",
       "      <th>category_grouped</th>\n",
       "      <th>year</th>\n",
       "      <th>month</th>\n",
       "      <th>day</th>\n",
       "      <th>has_html_tags</th>\n",
       "    </tr>\n",
       "  </thead>\n",
       "  <tbody>\n",
       "    <tr>\n",
       "      <th>0</th>\n",
       "      <td>Congress leader Baljinder Singh shot dead at h...</td>\n",
       "      <td>congress leader baljinder singh was shot dead ...</td>\n",
       "      <td>national</td>\n",
       "      <td>['national']</td>\n",
       "      <td>2023</td>\n",
       "      <td>9</td>\n",
       "      <td>19</td>\n",
       "      <td>False</td>\n",
       "    </tr>\n",
       "    <tr>\n",
       "      <th>1</th>\n",
       "      <td>17-year-old girl preparing for NEET dies by su...</td>\n",
       "      <td>another neet aspirant died by suicide in rajas...</td>\n",
       "      <td>national</td>\n",
       "      <td>['national']</td>\n",
       "      <td>2023</td>\n",
       "      <td>9</td>\n",
       "      <td>19</td>\n",
       "      <td>False</td>\n",
       "    </tr>\n",
       "    <tr>\n",
       "      <th>2</th>\n",
       "      <td>Hampers to welcome MPs in new Parliament tomor...</td>\n",
       "      <td>in order to mark the first-ever working day of...</td>\n",
       "      <td>national</td>\n",
       "      <td>['national']</td>\n",
       "      <td>2023</td>\n",
       "      <td>9</td>\n",
       "      <td>19</td>\n",
       "      <td>False</td>\n",
       "    </tr>\n",
       "    <tr>\n",
       "      <th>3</th>\n",
       "      <td>Only 10% women lawmakers in RS, while only 14%...</td>\n",
       "      <td>congress president mallikarjun kharge, while s...</td>\n",
       "      <td>national</td>\n",
       "      <td>['national']</td>\n",
       "      <td>2023</td>\n",
       "      <td>9</td>\n",
       "      <td>19</td>\n",
       "      <td>False</td>\n",
       "    </tr>\n",
       "    <tr>\n",
       "      <th>4</th>\n",
       "      <td>Ganesh temple decorated with notes, coins wort...</td>\n",
       "      <td>the sri sathya ganapathi temple in bengaluru a...</td>\n",
       "      <td>national</td>\n",
       "      <td>['national']</td>\n",
       "      <td>2023</td>\n",
       "      <td>9</td>\n",
       "      <td>19</td>\n",
       "      <td>False</td>\n",
       "    </tr>\n",
       "  </tbody>\n",
       "</table>\n",
       "</div>"
      ],
      "text/plain": [
       "                                            Headline  \\\n",
       "0  Congress leader Baljinder Singh shot dead at h...   \n",
       "1  17-year-old girl preparing for NEET dies by su...   \n",
       "2  Hampers to welcome MPs in new Parliament tomor...   \n",
       "3  Only 10% women lawmakers in RS, while only 14%...   \n",
       "4  Ganesh temple decorated with notes, coins wort...   \n",
       "\n",
       "                                             Content News Categories  \\\n",
       "0  congress leader baljinder singh was shot dead ...        national   \n",
       "1  another neet aspirant died by suicide in rajas...        national   \n",
       "2  in order to mark the first-ever working day of...        national   \n",
       "3  congress president mallikarjun kharge, while s...        national   \n",
       "4  the sri sathya ganapathi temple in bengaluru a...        national   \n",
       "\n",
       "  category_grouped  year  month  day  has_html_tags  \n",
       "0     ['national']  2023      9   19          False  \n",
       "1     ['national']  2023      9   19          False  \n",
       "2     ['national']  2023      9   19          False  \n",
       "3     ['national']  2023      9   19          False  \n",
       "4     ['national']  2023      9   19          False  "
      ]
     },
     "execution_count": 23,
     "metadata": {},
     "output_type": "execute_result"
    }
   ],
   "source": [
    "df.head()"
   ]
  },
  {
   "cell_type": "code",
   "execution_count": 24,
   "id": "4f47511f",
   "metadata": {
    "execution": {
     "iopub.execute_input": "2024-03-06T15:08:34.691493Z",
     "iopub.status.busy": "2024-03-06T15:08:34.691217Z",
     "iopub.status.idle": "2024-03-06T15:08:34.697353Z",
     "shell.execute_reply": "2024-03-06T15:08:34.696482Z"
    },
    "id": "t3Gj-K2Q1oPd",
    "outputId": "609f057b-0c4c-45e8-8734-e49fb32954f7",
    "papermill": {
     "duration": 0.032463,
     "end_time": "2024-03-06T15:08:34.699395",
     "exception": false,
     "start_time": "2024-03-06T15:08:34.666932",
     "status": "completed"
    },
    "tags": []
   },
   "outputs": [
    {
     "data": {
      "text/plain": [
       "0"
      ]
     },
     "execution_count": 24,
     "metadata": {},
     "output_type": "execute_result"
    }
   ],
   "source": [
    "count_true = df['has_html_tags'].sum()\n",
    "count_true"
   ]
  },
  {
   "cell_type": "code",
   "execution_count": 25,
   "id": "4abb5cf0",
   "metadata": {
    "execution": {
     "iopub.execute_input": "2024-03-06T15:08:34.747040Z",
     "iopub.status.busy": "2024-03-06T15:08:34.746751Z",
     "iopub.status.idle": "2024-03-06T15:08:34.780465Z",
     "shell.execute_reply": "2024-03-06T15:08:34.779523Z"
    },
    "id": "davZyGFU1qLC",
    "outputId": "e9305025-f2dd-4525-dfcb-e09ea8710030",
    "papermill": {
     "duration": 0.059648,
     "end_time": "2024-03-06T15:08:34.782456",
     "exception": false,
     "start_time": "2024-03-06T15:08:34.722808",
     "status": "completed"
    },
    "tags": []
   },
   "outputs": [
    {
     "data": {
      "text/html": [
       "<div>\n",
       "<style scoped>\n",
       "    .dataframe tbody tr th:only-of-type {\n",
       "        vertical-align: middle;\n",
       "    }\n",
       "\n",
       "    .dataframe tbody tr th {\n",
       "        vertical-align: top;\n",
       "    }\n",
       "\n",
       "    .dataframe thead th {\n",
       "        text-align: right;\n",
       "    }\n",
       "</style>\n",
       "<table border=\"1\" class=\"dataframe\">\n",
       "  <thead>\n",
       "    <tr style=\"text-align: right;\">\n",
       "      <th></th>\n",
       "      <th>Headline</th>\n",
       "      <th>Content</th>\n",
       "      <th>News Categories</th>\n",
       "      <th>category_grouped</th>\n",
       "      <th>year</th>\n",
       "      <th>month</th>\n",
       "      <th>day</th>\n",
       "    </tr>\n",
       "  </thead>\n",
       "  <tbody>\n",
       "    <tr>\n",
       "      <th>0</th>\n",
       "      <td>Congress leader Baljinder Singh shot dead at h...</td>\n",
       "      <td>congress leader baljinder singh was shot dead ...</td>\n",
       "      <td>national</td>\n",
       "      <td>['national']</td>\n",
       "      <td>2023</td>\n",
       "      <td>9</td>\n",
       "      <td>19</td>\n",
       "    </tr>\n",
       "    <tr>\n",
       "      <th>1</th>\n",
       "      <td>17-year-old girl preparing for NEET dies by su...</td>\n",
       "      <td>another neet aspirant died by suicide in rajas...</td>\n",
       "      <td>national</td>\n",
       "      <td>['national']</td>\n",
       "      <td>2023</td>\n",
       "      <td>9</td>\n",
       "      <td>19</td>\n",
       "    </tr>\n",
       "    <tr>\n",
       "      <th>2</th>\n",
       "      <td>Hampers to welcome MPs in new Parliament tomor...</td>\n",
       "      <td>in order to mark the first-ever working day of...</td>\n",
       "      <td>national</td>\n",
       "      <td>['national']</td>\n",
       "      <td>2023</td>\n",
       "      <td>9</td>\n",
       "      <td>19</td>\n",
       "    </tr>\n",
       "    <tr>\n",
       "      <th>3</th>\n",
       "      <td>Only 10% women lawmakers in RS, while only 14%...</td>\n",
       "      <td>congress president mallikarjun kharge, while s...</td>\n",
       "      <td>national</td>\n",
       "      <td>['national']</td>\n",
       "      <td>2023</td>\n",
       "      <td>9</td>\n",
       "      <td>19</td>\n",
       "    </tr>\n",
       "    <tr>\n",
       "      <th>4</th>\n",
       "      <td>Ganesh temple decorated with notes, coins wort...</td>\n",
       "      <td>the sri sathya ganapathi temple in bengaluru a...</td>\n",
       "      <td>national</td>\n",
       "      <td>['national']</td>\n",
       "      <td>2023</td>\n",
       "      <td>9</td>\n",
       "      <td>19</td>\n",
       "    </tr>\n",
       "    <tr>\n",
       "      <th>...</th>\n",
       "      <td>...</td>\n",
       "      <td>...</td>\n",
       "      <td>...</td>\n",
       "      <td>...</td>\n",
       "      <td>...</td>\n",
       "      <td>...</td>\n",
       "      <td>...</td>\n",
       "    </tr>\n",
       "    <tr>\n",
       "      <th>199701</th>\n",
       "      <td>Cause for age related diabetes can be pancreat...</td>\n",
       "      <td>the pancreas is an incredibly important organ,...</td>\n",
       "      <td>science HealthFitness</td>\n",
       "      <td>['science', 'Health___Fitness']</td>\n",
       "      <td>2024</td>\n",
       "      <td>1</td>\n",
       "      <td>20</td>\n",
       "    </tr>\n",
       "    <tr>\n",
       "      <th>199702</th>\n",
       "      <td>Study unveils Why sugary drinks may be bad for...</td>\n",
       "      <td>a recent study published in oral diseases has...</td>\n",
       "      <td>science HealthFitness</td>\n",
       "      <td>['science', 'Health___Fitness']</td>\n",
       "      <td>2024</td>\n",
       "      <td>1</td>\n",
       "      <td>20</td>\n",
       "    </tr>\n",
       "    <tr>\n",
       "      <th>199703</th>\n",
       "      <td>Why do Hospital-acquired infections happen? Ex...</td>\n",
       "      <td>hospital-acquired infections (hais) refer to i...</td>\n",
       "      <td>HealthFitness</td>\n",
       "      <td>['Health___Fitness']</td>\n",
       "      <td>2024</td>\n",
       "      <td>1</td>\n",
       "      <td>20</td>\n",
       "    </tr>\n",
       "    <tr>\n",
       "      <th>199704</th>\n",
       "      <td>Oxford launches first human vaccine trials for...</td>\n",
       "      <td>scientists at the university of oxford in the ...</td>\n",
       "      <td>science HealthFitness</td>\n",
       "      <td>['science', 'Health___Fitness']</td>\n",
       "      <td>2024</td>\n",
       "      <td>1</td>\n",
       "      <td>20</td>\n",
       "    </tr>\n",
       "    <tr>\n",
       "      <th>199705</th>\n",
       "      <td>This King Of Spices Can Instantly Control High...</td>\n",
       "      <td>high blood pressure happens when the force of ...</td>\n",
       "      <td>HealthFitness</td>\n",
       "      <td>['Health___Fitness']</td>\n",
       "      <td>2024</td>\n",
       "      <td>1</td>\n",
       "      <td>20</td>\n",
       "    </tr>\n",
       "  </tbody>\n",
       "</table>\n",
       "<p>199706 rows × 7 columns</p>\n",
       "</div>"
      ],
      "text/plain": [
       "                                                 Headline  \\\n",
       "0       Congress leader Baljinder Singh shot dead at h...   \n",
       "1       17-year-old girl preparing for NEET dies by su...   \n",
       "2       Hampers to welcome MPs in new Parliament tomor...   \n",
       "3       Only 10% women lawmakers in RS, while only 14%...   \n",
       "4       Ganesh temple decorated with notes, coins wort...   \n",
       "...                                                   ...   \n",
       "199701  Cause for age related diabetes can be pancreat...   \n",
       "199702  Study unveils Why sugary drinks may be bad for...   \n",
       "199703  Why do Hospital-acquired infections happen? Ex...   \n",
       "199704  Oxford launches first human vaccine trials for...   \n",
       "199705  This King Of Spices Can Instantly Control High...   \n",
       "\n",
       "                                                  Content  \\\n",
       "0       congress leader baljinder singh was shot dead ...   \n",
       "1       another neet aspirant died by suicide in rajas...   \n",
       "2       in order to mark the first-ever working day of...   \n",
       "3       congress president mallikarjun kharge, while s...   \n",
       "4       the sri sathya ganapathi temple in bengaluru a...   \n",
       "...                                                   ...   \n",
       "199701  the pancreas is an incredibly important organ,...   \n",
       "199702   a recent study published in oral diseases has...   \n",
       "199703  hospital-acquired infections (hais) refer to i...   \n",
       "199704  scientists at the university of oxford in the ...   \n",
       "199705  high blood pressure happens when the force of ...   \n",
       "\n",
       "              News Categories                 category_grouped  year  month  \\\n",
       "0                    national                     ['national']  2023      9   \n",
       "1                    national                     ['national']  2023      9   \n",
       "2                    national                     ['national']  2023      9   \n",
       "3                    national                     ['national']  2023      9   \n",
       "4                    national                     ['national']  2023      9   \n",
       "...                       ...                              ...   ...    ...   \n",
       "199701  science HealthFitness  ['science', 'Health___Fitness']  2024      1   \n",
       "199702  science HealthFitness  ['science', 'Health___Fitness']  2024      1   \n",
       "199703          HealthFitness             ['Health___Fitness']  2024      1   \n",
       "199704  science HealthFitness  ['science', 'Health___Fitness']  2024      1   \n",
       "199705          HealthFitness             ['Health___Fitness']  2024      1   \n",
       "\n",
       "        day  \n",
       "0        19  \n",
       "1        19  \n",
       "2        19  \n",
       "3        19  \n",
       "4        19  \n",
       "...     ...  \n",
       "199701   20  \n",
       "199702   20  \n",
       "199703   20  \n",
       "199704   20  \n",
       "199705   20  \n",
       "\n",
       "[199706 rows x 7 columns]"
      ]
     },
     "execution_count": 25,
     "metadata": {},
     "output_type": "execute_result"
    }
   ],
   "source": [
    "df = df.drop('has_html_tags', axis=1)\n",
    "df"
   ]
  },
  {
   "cell_type": "markdown",
   "id": "0560e0de",
   "metadata": {
    "id": "s3ZFM0op1xdj",
    "papermill": {
     "duration": 0.024101,
     "end_time": "2024-03-06T15:08:34.830743",
     "exception": false,
     "start_time": "2024-03-06T15:08:34.806642",
     "status": "completed"
    },
    "tags": []
   },
   "source": [
    "# 3- remove emojies"
   ]
  },
  {
   "cell_type": "code",
   "execution_count": 26,
   "id": "1b77e40d",
   "metadata": {
    "execution": {
     "iopub.execute_input": "2024-03-06T15:08:34.879648Z",
     "iopub.status.busy": "2024-03-06T15:08:34.879375Z",
     "iopub.status.idle": "2024-03-06T15:08:34.883080Z",
     "shell.execute_reply": "2024-03-06T15:08:34.882192Z"
    },
    "id": "wYCDEW-B1s97",
    "papermill": {
     "duration": 0.029711,
     "end_time": "2024-03-06T15:08:34.884986",
     "exception": false,
     "start_time": "2024-03-06T15:08:34.855275",
     "status": "completed"
    },
    "tags": []
   },
   "outputs": [],
   "source": [
    "# !pip install emoji"
   ]
  },
  {
   "cell_type": "code",
   "execution_count": 27,
   "id": "9263c2fa",
   "metadata": {
    "execution": {
     "iopub.execute_input": "2024-03-06T15:08:34.932963Z",
     "iopub.status.busy": "2024-03-06T15:08:34.932695Z",
     "iopub.status.idle": "2024-03-06T15:08:34.936372Z",
     "shell.execute_reply": "2024-03-06T15:08:34.935586Z"
    },
    "id": "VDVnCB7j11f9",
    "papermill": {
     "duration": 0.029609,
     "end_time": "2024-03-06T15:08:34.938260",
     "exception": false,
     "start_time": "2024-03-06T15:08:34.908651",
     "status": "completed"
    },
    "tags": []
   },
   "outputs": [],
   "source": [
    "# !pip install --upgrade emoji"
   ]
  },
  {
   "cell_type": "code",
   "execution_count": 28,
   "id": "9bfe5555",
   "metadata": {
    "execution": {
     "iopub.execute_input": "2024-03-06T15:08:34.987138Z",
     "iopub.status.busy": "2024-03-06T15:08:34.986849Z",
     "iopub.status.idle": "2024-03-06T15:08:34.990442Z",
     "shell.execute_reply": "2024-03-06T15:08:34.989722Z"
    },
    "id": "b4_leqh713rN",
    "papermill": {
     "duration": 0.030293,
     "end_time": "2024-03-06T15:08:34.992365",
     "exception": false,
     "start_time": "2024-03-06T15:08:34.962072",
     "status": "completed"
    },
    "tags": []
   },
   "outputs": [],
   "source": [
    "# !pip install regex"
   ]
  },
  {
   "cell_type": "code",
   "execution_count": 29,
   "id": "04a6e410",
   "metadata": {
    "execution": {
     "iopub.execute_input": "2024-03-06T15:08:35.041082Z",
     "iopub.status.busy": "2024-03-06T15:08:35.040800Z",
     "iopub.status.idle": "2024-03-06T15:08:37.539736Z",
     "shell.execute_reply": "2024-03-06T15:08:37.538870Z"
    },
    "id": "OASl693q16pk",
    "outputId": "858251ff-945b-44a3-9595-f9776d5511d9",
    "papermill": {
     "duration": 2.525445,
     "end_time": "2024-03-06T15:08:37.541937",
     "exception": false,
     "start_time": "2024-03-06T15:08:35.016492",
     "status": "completed"
    },
    "tags": []
   },
   "outputs": [
    {
     "data": {
      "text/plain": [
       "0         False\n",
       "1          True\n",
       "2         False\n",
       "3          True\n",
       "4          True\n",
       "          ...  \n",
       "199701    False\n",
       "199702    False\n",
       "199703    False\n",
       "199704     True\n",
       "199705    False\n",
       "Name: Content, Length: 199706, dtype: bool"
      ]
     },
     "execution_count": 29,
     "metadata": {},
     "output_type": "execute_result"
    }
   ],
   "source": [
    "import regex\n",
    "def has_emoji(text):\n",
    "    emoji_pattern = regex.compile(r'\\p{Emoji}', flags=regex.UNICODE)\n",
    "    return bool(emoji_pattern.search(text))\n",
    "\n",
    "\n",
    "has_emojis =  df['Content'].apply(has_emoji)\n",
    "\n",
    "has_emojis"
   ]
  },
  {
   "cell_type": "code",
   "execution_count": 30,
   "id": "32da3256",
   "metadata": {
    "execution": {
     "iopub.execute_input": "2024-03-06T15:08:37.591663Z",
     "iopub.status.busy": "2024-03-06T15:08:37.590940Z",
     "iopub.status.idle": "2024-03-06T15:08:37.597175Z",
     "shell.execute_reply": "2024-03-06T15:08:37.596320Z"
    },
    "id": "gxzxXLen1-zp",
    "outputId": "c4bb15c6-dc30-4ee5-f3e3-71a8971909b4",
    "papermill": {
     "duration": 0.032541,
     "end_time": "2024-03-06T15:08:37.599058",
     "exception": false,
     "start_time": "2024-03-06T15:08:37.566517",
     "status": "completed"
    },
    "tags": []
   },
   "outputs": [
    {
     "data": {
      "text/plain": [
       "127178"
      ]
     },
     "execution_count": 30,
     "metadata": {},
     "output_type": "execute_result"
    }
   ],
   "source": [
    "has_emojis.sum()"
   ]
  },
  {
   "cell_type": "code",
   "execution_count": 31,
   "id": "5f5b6086",
   "metadata": {
    "execution": {
     "iopub.execute_input": "2024-03-06T15:08:37.647243Z",
     "iopub.status.busy": "2024-03-06T15:08:37.646969Z",
     "iopub.status.idle": "2024-03-06T15:08:40.882922Z",
     "shell.execute_reply": "2024-03-06T15:08:40.881937Z"
    },
    "id": "sY69JOtq2Dgm",
    "papermill": {
     "duration": 3.262893,
     "end_time": "2024-03-06T15:08:40.885291",
     "exception": false,
     "start_time": "2024-03-06T15:08:37.622398",
     "status": "completed"
    },
    "tags": []
   },
   "outputs": [],
   "source": [
    "def remove_emojis(text):\n",
    "    emoji_pattern = regex.compile(r'\\p{Emoji}', flags=regex.UNICODE)\n",
    "    return emoji_pattern.sub('', text)\n",
    "\n",
    "df['Content'] = df['Content'].apply(remove_emojis)"
   ]
  },
  {
   "cell_type": "code",
   "execution_count": 32,
   "id": "8d93b2d8",
   "metadata": {
    "execution": {
     "iopub.execute_input": "2024-03-06T15:08:40.935960Z",
     "iopub.status.busy": "2024-03-06T15:08:40.935605Z",
     "iopub.status.idle": "2024-03-06T15:08:43.573652Z",
     "shell.execute_reply": "2024-03-06T15:08:43.572520Z"
    },
    "id": "yUnrBlyp38J3",
    "outputId": "ca1d0dd0-47fd-4508-a79d-756307e699eb",
    "papermill": {
     "duration": 2.66539,
     "end_time": "2024-03-06T15:08:43.575741",
     "exception": false,
     "start_time": "2024-03-06T15:08:40.910351",
     "status": "completed"
    },
    "tags": []
   },
   "outputs": [
    {
     "data": {
      "text/plain": [
       "0         False\n",
       "1         False\n",
       "2         False\n",
       "3         False\n",
       "4         False\n",
       "          ...  \n",
       "199701    False\n",
       "199702    False\n",
       "199703    False\n",
       "199704    False\n",
       "199705    False\n",
       "Name: Content, Length: 199706, dtype: bool"
      ]
     },
     "execution_count": 32,
     "metadata": {},
     "output_type": "execute_result"
    }
   ],
   "source": [
    "has_emojis =  df['Content'].apply(has_emoji)\n",
    "has_emojis"
   ]
  },
  {
   "cell_type": "code",
   "execution_count": 33,
   "id": "31ce83b8",
   "metadata": {
    "execution": {
     "iopub.execute_input": "2024-03-06T15:08:43.627171Z",
     "iopub.status.busy": "2024-03-06T15:08:43.626600Z",
     "iopub.status.idle": "2024-03-06T15:08:43.632878Z",
     "shell.execute_reply": "2024-03-06T15:08:43.631883Z"
    },
    "id": "XwBYeT2c4B_w",
    "outputId": "50d6b0da-8faf-44ca-8022-450b863c15a8",
    "papermill": {
     "duration": 0.032944,
     "end_time": "2024-03-06T15:08:43.634895",
     "exception": false,
     "start_time": "2024-03-06T15:08:43.601951",
     "status": "completed"
    },
    "tags": []
   },
   "outputs": [
    {
     "data": {
      "text/plain": [
       "0"
      ]
     },
     "execution_count": 33,
     "metadata": {},
     "output_type": "execute_result"
    }
   ],
   "source": [
    "has_emojis.sum()"
   ]
  },
  {
   "cell_type": "markdown",
   "id": "b61983a3",
   "metadata": {
    "id": "K36LWCOB4gVp",
    "papermill": {
     "duration": 0.02346,
     "end_time": "2024-03-06T15:08:43.682161",
     "exception": false,
     "start_time": "2024-03-06T15:08:43.658701",
     "status": "completed"
    },
    "tags": []
   },
   "source": [
    "# 4- remove urls"
   ]
  },
  {
   "cell_type": "code",
   "execution_count": 34,
   "id": "731de607",
   "metadata": {
    "execution": {
     "iopub.execute_input": "2024-03-06T15:08:43.733163Z",
     "iopub.status.busy": "2024-03-06T15:08:43.732809Z",
     "iopub.status.idle": "2024-03-06T15:08:45.452657Z",
     "shell.execute_reply": "2024-03-06T15:08:45.451877Z"
    },
    "id": "kqkDZHc64Kji",
    "papermill": {
     "duration": 1.74901,
     "end_time": "2024-03-06T15:08:45.455151",
     "exception": false,
     "start_time": "2024-03-06T15:08:43.706141",
     "status": "completed"
    },
    "tags": []
   },
   "outputs": [],
   "source": [
    "import re\n",
    "def remove_url(text):\n",
    "    pattern=re.compile(r'https?://\\S+|www\\.S+')\n",
    "    return pattern.sub(r'',text)\n",
    "df[\"Content\"]=df[\"Content\"].apply(remove_url)"
   ]
  },
  {
   "cell_type": "markdown",
   "id": "b1c80de1",
   "metadata": {
    "id": "7jtZLqXA4ks8",
    "papermill": {
     "duration": 0.023766,
     "end_time": "2024-03-06T15:08:45.503571",
     "exception": false,
     "start_time": "2024-03-06T15:08:45.479805",
     "status": "completed"
    },
    "tags": []
   },
   "source": [
    "# Remove punctuation"
   ]
  },
  {
   "cell_type": "code",
   "execution_count": 35,
   "id": "47858340",
   "metadata": {
    "execution": {
     "iopub.execute_input": "2024-03-06T15:08:45.552410Z",
     "iopub.status.busy": "2024-03-06T15:08:45.552083Z",
     "iopub.status.idle": "2024-03-06T15:08:45.558047Z",
     "shell.execute_reply": "2024-03-06T15:08:45.557158Z"
    },
    "id": "FJOLXF8G4bfk",
    "outputId": "045e9715-2b4f-4559-cf8d-fb1ba14778a1",
    "papermill": {
     "duration": 0.032699,
     "end_time": "2024-03-06T15:08:45.559997",
     "exception": false,
     "start_time": "2024-03-06T15:08:45.527298",
     "status": "completed"
    },
    "tags": []
   },
   "outputs": [
    {
     "data": {
      "text/plain": [
       "'!\"#$%&\\'()*+,-./:;<=>?@[\\\\]^_`{|}~'"
      ]
     },
     "execution_count": 35,
     "metadata": {},
     "output_type": "execute_result"
    }
   ],
   "source": [
    "import string\n",
    "string.punctuation"
   ]
  },
  {
   "cell_type": "code",
   "execution_count": 36,
   "id": "39dcf84f",
   "metadata": {
    "execution": {
     "iopub.execute_input": "2024-03-06T15:08:45.610445Z",
     "iopub.status.busy": "2024-03-06T15:08:45.610145Z",
     "iopub.status.idle": "2024-03-06T15:08:45.614016Z",
     "shell.execute_reply": "2024-03-06T15:08:45.613169Z"
    },
    "id": "SlyQGHyQ4dK7",
    "papermill": {
     "duration": 0.030955,
     "end_time": "2024-03-06T15:08:45.615848",
     "exception": false,
     "start_time": "2024-03-06T15:08:45.584893",
     "status": "completed"
    },
    "tags": []
   },
   "outputs": [],
   "source": [
    "punc=string.punctuation"
   ]
  },
  {
   "cell_type": "code",
   "execution_count": 37,
   "id": "aa167beb",
   "metadata": {
    "execution": {
     "iopub.execute_input": "2024-03-06T15:08:45.665056Z",
     "iopub.status.busy": "2024-03-06T15:08:45.664768Z",
     "iopub.status.idle": "2024-03-06T15:08:47.635299Z",
     "shell.execute_reply": "2024-03-06T15:08:47.634205Z"
    },
    "id": "Md1d5mqI4edK",
    "papermill": {
     "duration": 1.997713,
     "end_time": "2024-03-06T15:08:47.637902",
     "exception": false,
     "start_time": "2024-03-06T15:08:45.640189",
     "status": "completed"
    },
    "tags": []
   },
   "outputs": [],
   "source": [
    "def remove_punc(text):\n",
    "    return text.translate(str.maketrans('', '',punc))\n",
    "df[\"Content\"]=df[\"Content\"].apply(remove_punc)"
   ]
  },
  {
   "cell_type": "markdown",
   "id": "edc18c9b",
   "metadata": {
    "id": "rfJqhGQM42HB",
    "papermill": {
     "duration": 0.023466,
     "end_time": "2024-03-06T15:08:47.685799",
     "exception": false,
     "start_time": "2024-03-06T15:08:47.662333",
     "status": "completed"
    },
    "tags": []
   },
   "source": [
    "# remove stopwords"
   ]
  },
  {
   "cell_type": "code",
   "execution_count": 38,
   "id": "f42e6181",
   "metadata": {
    "execution": {
     "iopub.execute_input": "2024-03-06T15:08:47.735236Z",
     "iopub.status.busy": "2024-03-06T15:08:47.734920Z",
     "iopub.status.idle": "2024-03-06T15:08:47.739018Z",
     "shell.execute_reply": "2024-03-06T15:08:47.738185Z"
    },
    "id": "kC739KKg41b9",
    "papermill": {
     "duration": 0.030976,
     "end_time": "2024-03-06T15:08:47.740870",
     "exception": false,
     "start_time": "2024-03-06T15:08:47.709894",
     "status": "completed"
    },
    "tags": []
   },
   "outputs": [],
   "source": [
    "from nltk.corpus import stopwords"
   ]
  },
  {
   "cell_type": "code",
   "execution_count": 39,
   "id": "59df023e",
   "metadata": {
    "execution": {
     "iopub.execute_input": "2024-03-06T15:08:47.789373Z",
     "iopub.status.busy": "2024-03-06T15:08:47.789097Z",
     "iopub.status.idle": "2024-03-06T15:08:47.792849Z",
     "shell.execute_reply": "2024-03-06T15:08:47.792014Z"
    },
    "id": "CNQ2Ox2X4waH",
    "papermill": {
     "duration": 0.030349,
     "end_time": "2024-03-06T15:08:47.794886",
     "exception": false,
     "start_time": "2024-03-06T15:08:47.764537",
     "status": "completed"
    },
    "tags": []
   },
   "outputs": [],
   "source": [
    "import nltk"
   ]
  },
  {
   "cell_type": "code",
   "execution_count": 40,
   "id": "5f42d54c",
   "metadata": {
    "execution": {
     "iopub.execute_input": "2024-03-06T15:08:47.844939Z",
     "iopub.status.busy": "2024-03-06T15:08:47.844644Z",
     "iopub.status.idle": "2024-03-06T15:08:47.945535Z",
     "shell.execute_reply": "2024-03-06T15:08:47.944644Z"
    },
    "id": "hq42b_Mr45M5",
    "outputId": "95c4f5a6-d54c-4874-988b-4f7d6896968c",
    "papermill": {
     "duration": 0.127248,
     "end_time": "2024-03-06T15:08:47.947639",
     "exception": false,
     "start_time": "2024-03-06T15:08:47.820391",
     "status": "completed"
    },
    "tags": []
   },
   "outputs": [
    {
     "name": "stdout",
     "output_type": "stream",
     "text": [
      "[nltk_data] Downloading package stopwords to /usr/share/nltk_data...\n",
      "[nltk_data]   Package stopwords is already up-to-date!\n"
     ]
    },
    {
     "data": {
      "text/plain": [
       "True"
      ]
     },
     "execution_count": 40,
     "metadata": {},
     "output_type": "execute_result"
    }
   ],
   "source": [
    "nltk.download('stopwords')"
   ]
  },
  {
   "cell_type": "code",
   "execution_count": 41,
   "id": "4e3ac768",
   "metadata": {
    "execution": {
     "iopub.execute_input": "2024-03-06T15:08:47.997532Z",
     "iopub.status.busy": "2024-03-06T15:08:47.997201Z",
     "iopub.status.idle": "2024-03-06T15:08:48.005918Z",
     "shell.execute_reply": "2024-03-06T15:08:48.005163Z"
    },
    "id": "gtv1sLTv46YS",
    "papermill": {
     "duration": 0.036047,
     "end_time": "2024-03-06T15:08:48.007868",
     "exception": false,
     "start_time": "2024-03-06T15:08:47.971821",
     "status": "completed"
    },
    "tags": []
   },
   "outputs": [],
   "source": [
    "stop_words=set(stopwords.words('english'))"
   ]
  },
  {
   "cell_type": "code",
   "execution_count": 42,
   "id": "7e728a9c",
   "metadata": {
    "execution": {
     "iopub.execute_input": "2024-03-06T15:08:48.059973Z",
     "iopub.status.busy": "2024-03-06T15:08:48.059662Z",
     "iopub.status.idle": "2024-03-06T15:08:50.611352Z",
     "shell.execute_reply": "2024-03-06T15:08:50.610575Z"
    },
    "id": "VI41ShzP4796",
    "papermill": {
     "duration": 2.58039,
     "end_time": "2024-03-06T15:08:50.613593",
     "exception": false,
     "start_time": "2024-03-06T15:08:48.033203",
     "status": "completed"
    },
    "tags": []
   },
   "outputs": [],
   "source": [
    "def remove_stopwords(text):\n",
    "    words = text.split()\n",
    "    filtered_words = [word for word in words if word not in stop_words]\n",
    "    return \" \".join(filtered_words)\n",
    "\n",
    "df[\"Content\"]=df[\"Content\"].apply(lambda x: remove_stopwords(x))"
   ]
  },
  {
   "cell_type": "markdown",
   "id": "04afd6aa",
   "metadata": {
    "id": "cJV9LJlf5tlJ",
    "papermill": {
     "duration": 0.023967,
     "end_time": "2024-03-06T15:08:50.662972",
     "exception": false,
     "start_time": "2024-03-06T15:08:50.639005",
     "status": "completed"
    },
    "tags": []
   },
   "source": [
    "# Remove abbreviations"
   ]
  },
  {
   "cell_type": "code",
   "execution_count": 43,
   "id": "852c5968",
   "metadata": {
    "execution": {
     "iopub.execute_input": "2024-03-06T15:08:50.712362Z",
     "iopub.status.busy": "2024-03-06T15:08:50.712035Z",
     "iopub.status.idle": "2024-03-06T15:08:50.824293Z",
     "shell.execute_reply": "2024-03-06T15:08:50.823287Z"
    },
    "id": "16OCRBOx5XI9",
    "outputId": "94af3348-1598-4b15-f4d0-0c1cc3b63921",
    "papermill": {
     "duration": 0.139508,
     "end_time": "2024-03-06T15:08:50.826437",
     "exception": false,
     "start_time": "2024-03-06T15:08:50.686929",
     "status": "completed"
    },
    "tags": []
   },
   "outputs": [
    {
     "name": "stdout",
     "output_type": "stream",
     "text": [
      "[nltk_data] Downloading package punkt to /usr/share/nltk_data...\n",
      "[nltk_data]   Package punkt is already up-to-date!\n"
     ]
    },
    {
     "data": {
      "text/plain": [
       "True"
      ]
     },
     "execution_count": 43,
     "metadata": {},
     "output_type": "execute_result"
    }
   ],
   "source": [
    "import nltk\n",
    "nltk.download('punkt')"
   ]
  },
  {
   "cell_type": "code",
   "execution_count": 44,
   "id": "3f546c7d",
   "metadata": {
    "execution": {
     "iopub.execute_input": "2024-03-06T15:08:50.880369Z",
     "iopub.status.busy": "2024-03-06T15:08:50.879756Z",
     "iopub.status.idle": "2024-03-06T15:08:50.892751Z",
     "shell.execute_reply": "2024-03-06T15:08:50.891896Z"
    },
    "id": "4pCa7PTW5xwu",
    "papermill": {
     "duration": 0.04297,
     "end_time": "2024-03-06T15:08:50.894698",
     "exception": false,
     "start_time": "2024-03-06T15:08:50.851728",
     "status": "completed"
    },
    "tags": []
   },
   "outputs": [],
   "source": [
    "abbreviation_dict = {\n",
    "    'LOL': 'laugh out loud',\n",
    "    'BRB': 'be right back',\n",
    "    'OMG': 'oh my god',\n",
    "    'AFAIK': 'as far as I know',\n",
    "    'AFK': 'away from keyboard',\n",
    "    'ASAP': 'as soon as possible',\n",
    "    'ATK': 'at the keyboard',\n",
    "    'ATM': 'at the moment',\n",
    "    'A3': 'anytime, anywhere, anyplace',\n",
    "    'BAK': 'back at keyboard',\n",
    "    'BBL': 'be back later',\n",
    "    'BBS': 'be back soon',\n",
    "    'BFN': 'bye for now',\n",
    "    'B4N': 'bye for now',\n",
    "    'BRB': 'be right back',\n",
    "    'BRT': 'be right there',\n",
    "    'BTW': 'by the way',\n",
    "    'B4': 'before',\n",
    "    'B4N': 'bye for now',\n",
    "    'CU': 'see you',\n",
    "    'CUL8R': 'see you later',\n",
    "    'CYA': 'see you',\n",
    "    'FAQ': 'frequently asked questions',\n",
    "    'FC': 'fingers crossed',\n",
    "    'FWIW': 'for what it\\'s worth',\n",
    "    'FYI': 'For Your Information',\n",
    "    'GAL': 'get a life',\n",
    "    'GG': 'good game',\n",
    "    'GN': 'good night',\n",
    "    'GMTA': 'great minds think alike',\n",
    "    'GR8': 'great!',\n",
    "    'G9': 'genius',\n",
    "    'IC': 'i see',\n",
    "    'ICQ': 'i seek you',\n",
    "    'ILU': 'i love you',\n",
    "    'IMHO': 'in my honest/humble opinion',\n",
    "    'IMO': 'in my opinion',\n",
    "    'IOW': 'in other words',\n",
    "    'IRL': 'in real life',\n",
    "    'KISS': 'keep it simple, stupid',\n",
    "    'LDR': 'long distance relationship',\n",
    "    'LMAO': 'laugh my a.. off',\n",
    "    'LOL': 'laughing out loud',\n",
    "    'LTNS': 'long time no see',\n",
    "    'L8R': 'later',\n",
    "    'MTE': 'my thoughts exactly',\n",
    "    'M8': 'mate',\n",
    "    'NRN': 'no reply necessary',\n",
    "    'OIC': 'oh i see',\n",
    "    'PITA': 'pain in the a..',\n",
    "    'PRT': 'party',\n",
    "    'PRW': 'parents are watching',\n",
    "    'QPSA?': 'que pasa?',\n",
    "    'ROFL': 'rolling on the floor laughing',\n",
    "    'ROFLOL': 'rolling on the floor laughing out loud',\n",
    "    'ROTFLMAO': 'rolling on the floor laughing my a.. off',\n",
    "    'SK8': 'skate',\n",
    "    'STATS': 'your sex and age',\n",
    "    'ASL': 'age, sex, location',\n",
    "    'THX': 'thank you',\n",
    "    'TTFN': 'ta-ta for now!',\n",
    "    'TTYL': 'talk to you later',\n",
    "    'U': 'you',\n",
    "    'U2': 'you too',\n",
    "    'U4E': 'yours for ever',\n",
    "    'WB': 'welcome back',\n",
    "    'WTF': 'what the f...',\n",
    "    'WTG': 'way to go!',\n",
    "    'WUF': 'where are you from?',\n",
    "    'W8': 'wait...',\n",
    "    '7K': 'sick laughter',\n",
    "    'TFW': 'that feeling when',\n",
    "    'MFW': 'my face when',\n",
    "    'MRW': 'my reaction when',\n",
    "    'IFYP': 'i feel your pain',\n",
    "    'LOL': 'laughing out loud',\n",
    "    'TNTL': 'trying not to laugh',\n",
    "    'JK': 'just kidding',\n",
    "    'IDC': 'i don’t care',\n",
    "    'ILY': 'i love you',\n",
    "    'IMU': 'i miss you',\n",
    "    'ADIH': 'another day in hell',\n",
    "    'IDC': 'i don’t care',\n",
    "    'ZZZ': 'sleeping, bored, tired',\n",
    "    'WYWH': 'wish you were here',\n",
    "    'TIME': 'tears in my eyes',\n",
    "    'BAE': 'before anyone else',\n",
    "    'FIMH': 'forever in my heart',\n",
    "    'BSAAW': 'big smile and a wink',\n",
    "    'BWL': 'bursting with laughter',\n",
    "    'LMAO': 'laughing my a** off',\n",
    "    'BFF': 'best friends forever',\n",
    "    'CSL': 'can’t stop laughing',\n",
    "}"
   ]
  },
  {
   "cell_type": "code",
   "execution_count": 45,
   "id": "dd4d37ec",
   "metadata": {
    "execution": {
     "iopub.execute_input": "2024-03-06T15:08:50.948042Z",
     "iopub.status.busy": "2024-03-06T15:08:50.947743Z",
     "iopub.status.idle": "2024-03-06T15:08:55.521912Z",
     "shell.execute_reply": "2024-03-06T15:08:55.520970Z"
    },
    "id": "APWvSLmQ51ZN",
    "papermill": {
     "duration": 4.603567,
     "end_time": "2024-03-06T15:08:55.524659",
     "exception": false,
     "start_time": "2024-03-06T15:08:50.921092",
     "status": "completed"
    },
    "tags": []
   },
   "outputs": [],
   "source": [
    "def replace_abbreviations(text, abbreviation_dict):\n",
    "    for abbreviation, full_form in abbreviation_dict.items():\n",
    "        text = text.replace(abbreviation, full_form)\n",
    "    return text\n",
    "df['Content'] = df['Content'].apply(lambda x: replace_abbreviations(x,abbreviation_dict))"
   ]
  },
  {
   "cell_type": "code",
   "execution_count": 46,
   "id": "e1cef557",
   "metadata": {
    "execution": {
     "iopub.execute_input": "2024-03-06T15:08:55.579745Z",
     "iopub.status.busy": "2024-03-06T15:08:55.579431Z",
     "iopub.status.idle": "2024-03-06T15:08:55.591669Z",
     "shell.execute_reply": "2024-03-06T15:08:55.590894Z"
    },
    "id": "4-eg4Ykx6MpV",
    "outputId": "b3124608-b22b-4d25-ca0f-e126e8cb52cf",
    "papermill": {
     "duration": 0.041832,
     "end_time": "2024-03-06T15:08:55.594285",
     "exception": false,
     "start_time": "2024-03-06T15:08:55.552453",
     "status": "completed"
    },
    "tags": []
   },
   "outputs": [
    {
     "data": {
      "text/html": [
       "<div>\n",
       "<style scoped>\n",
       "    .dataframe tbody tr th:only-of-type {\n",
       "        vertical-align: middle;\n",
       "    }\n",
       "\n",
       "    .dataframe tbody tr th {\n",
       "        vertical-align: top;\n",
       "    }\n",
       "\n",
       "    .dataframe thead th {\n",
       "        text-align: right;\n",
       "    }\n",
       "</style>\n",
       "<table border=\"1\" class=\"dataframe\">\n",
       "  <thead>\n",
       "    <tr style=\"text-align: right;\">\n",
       "      <th></th>\n",
       "      <th>Headline</th>\n",
       "      <th>Content</th>\n",
       "      <th>News Categories</th>\n",
       "      <th>category_grouped</th>\n",
       "      <th>year</th>\n",
       "      <th>month</th>\n",
       "      <th>day</th>\n",
       "    </tr>\n",
       "  </thead>\n",
       "  <tbody>\n",
       "    <tr>\n",
       "      <th>0</th>\n",
       "      <td>Congress leader Baljinder Singh shot dead at h...</td>\n",
       "      <td>congress leader baljinder singh shot dead hous...</td>\n",
       "      <td>national</td>\n",
       "      <td>['national']</td>\n",
       "      <td>2023</td>\n",
       "      <td>9</td>\n",
       "      <td>19</td>\n",
       "    </tr>\n",
       "    <tr>\n",
       "      <th>1</th>\n",
       "      <td>17-year-old girl preparing for NEET dies by su...</td>\n",
       "      <td>another neet aspirant died suicide rajasthans ...</td>\n",
       "      <td>national</td>\n",
       "      <td>['national']</td>\n",
       "      <td>2023</td>\n",
       "      <td>9</td>\n",
       "      <td>19</td>\n",
       "    </tr>\n",
       "    <tr>\n",
       "      <th>2</th>\n",
       "      <td>Hampers to welcome MPs in new Parliament tomor...</td>\n",
       "      <td>order mark firstever working day new parliamen...</td>\n",
       "      <td>national</td>\n",
       "      <td>['national']</td>\n",
       "      <td>2023</td>\n",
       "      <td>9</td>\n",
       "      <td>19</td>\n",
       "    </tr>\n",
       "    <tr>\n",
       "      <th>3</th>\n",
       "      <td>Only 10% women lawmakers in RS, while only 14%...</td>\n",
       "      <td>congress president mallikarjun kharge speaking...</td>\n",
       "      <td>national</td>\n",
       "      <td>['national']</td>\n",
       "      <td>2023</td>\n",
       "      <td>9</td>\n",
       "      <td>19</td>\n",
       "    </tr>\n",
       "    <tr>\n",
       "      <th>4</th>\n",
       "      <td>Ganesh temple decorated with notes, coins wort...</td>\n",
       "      <td>sri sathya ganapathi temple bengaluru adorned ...</td>\n",
       "      <td>national</td>\n",
       "      <td>['national']</td>\n",
       "      <td>2023</td>\n",
       "      <td>9</td>\n",
       "      <td>19</td>\n",
       "    </tr>\n",
       "  </tbody>\n",
       "</table>\n",
       "</div>"
      ],
      "text/plain": [
       "                                            Headline  \\\n",
       "0  Congress leader Baljinder Singh shot dead at h...   \n",
       "1  17-year-old girl preparing for NEET dies by su...   \n",
       "2  Hampers to welcome MPs in new Parliament tomor...   \n",
       "3  Only 10% women lawmakers in RS, while only 14%...   \n",
       "4  Ganesh temple decorated with notes, coins wort...   \n",
       "\n",
       "                                             Content News Categories  \\\n",
       "0  congress leader baljinder singh shot dead hous...        national   \n",
       "1  another neet aspirant died suicide rajasthans ...        national   \n",
       "2  order mark firstever working day new parliamen...        national   \n",
       "3  congress president mallikarjun kharge speaking...        national   \n",
       "4  sri sathya ganapathi temple bengaluru adorned ...        national   \n",
       "\n",
       "  category_grouped  year  month  day  \n",
       "0     ['national']  2023      9   19  \n",
       "1     ['national']  2023      9   19  \n",
       "2     ['national']  2023      9   19  \n",
       "3     ['national']  2023      9   19  \n",
       "4     ['national']  2023      9   19  "
      ]
     },
     "execution_count": 46,
     "metadata": {},
     "output_type": "execute_result"
    }
   ],
   "source": [
    "df.head()"
   ]
  },
  {
   "cell_type": "markdown",
   "id": "e3582333",
   "metadata": {
    "id": "GacyogvTkKfF",
    "papermill": {
     "duration": 0.025617,
     "end_time": "2024-03-06T15:08:55.646041",
     "exception": false,
     "start_time": "2024-03-06T15:08:55.620424",
     "status": "completed"
    },
    "tags": []
   },
   "source": [
    "## Tokeinization"
   ]
  },
  {
   "cell_type": "code",
   "execution_count": 47,
   "id": "25899289",
   "metadata": {
    "execution": {
     "iopub.execute_input": "2024-03-06T15:08:55.698219Z",
     "iopub.status.busy": "2024-03-06T15:08:55.697483Z",
     "iopub.status.idle": "2024-03-06T15:10:37.038039Z",
     "shell.execute_reply": "2024-03-06T15:10:37.036946Z"
    },
    "id": "XXT_ZleHRdHf",
    "outputId": "80ca41c0-89a5-486e-e606-3926afd47f5c",
    "papermill": {
     "duration": 101.393304,
     "end_time": "2024-03-06T15:10:37.064705",
     "exception": false,
     "start_time": "2024-03-06T15:08:55.671401",
     "status": "completed"
    },
    "tags": []
   },
   "outputs": [
    {
     "name": "stdout",
     "output_type": "stream",
     "text": [
      "[nltk_data] Downloading package punkt to /usr/share/nltk_data...\n",
      "[nltk_data]   Package punkt is already up-to-date!\n"
     ]
    },
    {
     "data": {
      "text/html": [
       "<div>\n",
       "<style scoped>\n",
       "    .dataframe tbody tr th:only-of-type {\n",
       "        vertical-align: middle;\n",
       "    }\n",
       "\n",
       "    .dataframe tbody tr th {\n",
       "        vertical-align: top;\n",
       "    }\n",
       "\n",
       "    .dataframe thead th {\n",
       "        text-align: right;\n",
       "    }\n",
       "</style>\n",
       "<table border=\"1\" class=\"dataframe\">\n",
       "  <thead>\n",
       "    <tr style=\"text-align: right;\">\n",
       "      <th></th>\n",
       "      <th>Headline</th>\n",
       "      <th>Content</th>\n",
       "      <th>News Categories</th>\n",
       "      <th>category_grouped</th>\n",
       "      <th>year</th>\n",
       "      <th>month</th>\n",
       "      <th>day</th>\n",
       "    </tr>\n",
       "  </thead>\n",
       "  <tbody>\n",
       "    <tr>\n",
       "      <th>0</th>\n",
       "      <td>Congress leader Baljinder Singh shot dead at h...</td>\n",
       "      <td>congress leader baljinder singh shot dead hous...</td>\n",
       "      <td>national</td>\n",
       "      <td>['national']</td>\n",
       "      <td>2023</td>\n",
       "      <td>9</td>\n",
       "      <td>19</td>\n",
       "    </tr>\n",
       "    <tr>\n",
       "      <th>1</th>\n",
       "      <td>17-year-old girl preparing for NEET dies by su...</td>\n",
       "      <td>another neet aspirant died suicide rajasthans ...</td>\n",
       "      <td>national</td>\n",
       "      <td>['national']</td>\n",
       "      <td>2023</td>\n",
       "      <td>9</td>\n",
       "      <td>19</td>\n",
       "    </tr>\n",
       "    <tr>\n",
       "      <th>2</th>\n",
       "      <td>Hampers to welcome MPs in new Parliament tomor...</td>\n",
       "      <td>order mark firstever working day new parliamen...</td>\n",
       "      <td>national</td>\n",
       "      <td>['national']</td>\n",
       "      <td>2023</td>\n",
       "      <td>9</td>\n",
       "      <td>19</td>\n",
       "    </tr>\n",
       "    <tr>\n",
       "      <th>3</th>\n",
       "      <td>Only 10% women lawmakers in RS, while only 14%...</td>\n",
       "      <td>congress president mallikarjun kharge speaking...</td>\n",
       "      <td>national</td>\n",
       "      <td>['national']</td>\n",
       "      <td>2023</td>\n",
       "      <td>9</td>\n",
       "      <td>19</td>\n",
       "    </tr>\n",
       "    <tr>\n",
       "      <th>4</th>\n",
       "      <td>Ganesh temple decorated with notes, coins wort...</td>\n",
       "      <td>sri sathya ganapathi temple bengaluru adorned ...</td>\n",
       "      <td>national</td>\n",
       "      <td>['national']</td>\n",
       "      <td>2023</td>\n",
       "      <td>9</td>\n",
       "      <td>19</td>\n",
       "    </tr>\n",
       "  </tbody>\n",
       "</table>\n",
       "</div>"
      ],
      "text/plain": [
       "                                            Headline  \\\n",
       "0  Congress leader Baljinder Singh shot dead at h...   \n",
       "1  17-year-old girl preparing for NEET dies by su...   \n",
       "2  Hampers to welcome MPs in new Parliament tomor...   \n",
       "3  Only 10% women lawmakers in RS, while only 14%...   \n",
       "4  Ganesh temple decorated with notes, coins wort...   \n",
       "\n",
       "                                             Content News Categories  \\\n",
       "0  congress leader baljinder singh shot dead hous...        national   \n",
       "1  another neet aspirant died suicide rajasthans ...        national   \n",
       "2  order mark firstever working day new parliamen...        national   \n",
       "3  congress president mallikarjun kharge speaking...        national   \n",
       "4  sri sathya ganapathi temple bengaluru adorned ...        national   \n",
       "\n",
       "  category_grouped  year  month  day  \n",
       "0     ['national']  2023      9   19  \n",
       "1     ['national']  2023      9   19  \n",
       "2     ['national']  2023      9   19  \n",
       "3     ['national']  2023      9   19  \n",
       "4     ['national']  2023      9   19  "
      ]
     },
     "execution_count": 47,
     "metadata": {},
     "output_type": "execute_result"
    }
   ],
   "source": [
    "import nltk\n",
    "nltk.download('punkt')\n",
    "from nltk import word_tokenize , sent_tokenize\n",
    "\n",
    "def tokenize_text(text):\n",
    "    # Tokenize each sentence into words\n",
    "    words_list = [word_tokenize(sentence) for sentence in sent_tokenize(text)]\n",
    "\n",
    "    words = ' '.join(' '.join(words) for words in words_list)\n",
    "\n",
    "    return words\n",
    "\n",
    "df[\"Content\"] = df[\"Content\"].apply(tokenize_text)\n",
    "\n",
    "df.head()"
   ]
  },
  {
   "cell_type": "markdown",
   "id": "97c7b294",
   "metadata": {
    "id": "Foz4rb9x6UAJ",
    "papermill": {
     "duration": 0.025539,
     "end_time": "2024-03-06T15:10:37.116786",
     "exception": false,
     "start_time": "2024-03-06T15:10:37.091247",
     "status": "completed"
    },
    "tags": []
   },
   "source": [
    "## Split data"
   ]
  },
  {
   "cell_type": "code",
   "execution_count": 48,
   "id": "442892dd",
   "metadata": {
    "execution": {
     "iopub.execute_input": "2024-03-06T15:10:37.167640Z",
     "iopub.status.busy": "2024-03-06T15:10:37.167326Z",
     "iopub.status.idle": "2024-03-06T15:10:50.996935Z",
     "shell.execute_reply": "2024-03-06T15:10:50.995791Z"
    },
    "id": "MGCF7QYm2RDS",
    "outputId": "d3a329de-26b0-4b88-f882-3fa65c17ffa6",
    "papermill": {
     "duration": 13.857846,
     "end_time": "2024-03-06T15:10:50.999450",
     "exception": false,
     "start_time": "2024-03-06T15:10:37.141604",
     "status": "completed"
    },
    "tags": []
   },
   "outputs": [
    {
     "name": "stdout",
     "output_type": "stream",
     "text": [
      "Requirement already satisfied: imbalanced-learn in /opt/conda/lib/python3.10/site-packages (0.12.0)\r\n",
      "Requirement already satisfied: numpy>=1.17.3 in /opt/conda/lib/python3.10/site-packages (from imbalanced-learn) (1.26.4)\r\n",
      "Requirement already satisfied: scipy>=1.5.0 in /opt/conda/lib/python3.10/site-packages (from imbalanced-learn) (1.11.4)\r\n",
      "Requirement already satisfied: scikit-learn>=1.0.2 in /opt/conda/lib/python3.10/site-packages (from imbalanced-learn) (1.2.2)\r\n",
      "Requirement already satisfied: joblib>=1.1.1 in /opt/conda/lib/python3.10/site-packages (from imbalanced-learn) (1.3.2)\r\n",
      "Requirement already satisfied: threadpoolctl>=2.0.0 in /opt/conda/lib/python3.10/site-packages (from imbalanced-learn) (3.2.0)\r\n"
     ]
    }
   ],
   "source": [
    "!pip install imbalanced-learn"
   ]
  },
  {
   "cell_type": "code",
   "execution_count": 49,
   "id": "19f11fd7",
   "metadata": {
    "execution": {
     "iopub.execute_input": "2024-03-06T15:10:51.054751Z",
     "iopub.status.busy": "2024-03-06T15:10:51.054404Z",
     "iopub.status.idle": "2024-03-06T15:10:51.205761Z",
     "shell.execute_reply": "2024-03-06T15:10:51.204974Z"
    },
    "id": "ZNBgbzNb2V0o",
    "papermill": {
     "duration": 0.181631,
     "end_time": "2024-03-06T15:10:51.208157",
     "exception": false,
     "start_time": "2024-03-06T15:10:51.026526",
     "status": "completed"
    },
    "tags": []
   },
   "outputs": [],
   "source": [
    "from imblearn.over_sampling import SMOTE\n",
    "from sklearn.model_selection import train_test_split"
   ]
  },
  {
   "cell_type": "code",
   "execution_count": 50,
   "id": "0a365c32",
   "metadata": {
    "execution": {
     "iopub.execute_input": "2024-03-06T15:10:51.261412Z",
     "iopub.status.busy": "2024-03-06T15:10:51.260592Z",
     "iopub.status.idle": "2024-03-06T15:10:51.388555Z",
     "shell.execute_reply": "2024-03-06T15:10:51.387823Z"
    },
    "id": "lrvxkayH6P72",
    "papermill": {
     "duration": 0.156238,
     "end_time": "2024-03-06T15:10:51.390702",
     "exception": false,
     "start_time": "2024-03-06T15:10:51.234464",
     "status": "completed"
    },
    "tags": []
   },
   "outputs": [],
   "source": [
    "import pandas as pd\n",
    "from sklearn.model_selection import StratifiedKFold, cross_val_score\n",
    "from sklearn.naive_bayes import MultinomialNB\n",
    "from sklearn.feature_extraction.text import CountVectorizer\n",
    "from sklearn.pipeline import Pipeline\n",
    "from sklearn.preprocessing import LabelEncoder\n",
    "from sklearn.utils.class_weight import compute_class_weight\n",
    "\n",
    "X = df['Content']\n",
    "y = df['category_grouped']\n",
    "\n",
    "# Encoding labels\n",
    "le = LabelEncoder()\n",
    "y_encoded = le.fit_transform(y)\n",
    "\n",
    "class_weights_train = compute_class_weight('balanced', classes=np.unique(y_encoded), y=y_encoded)"
   ]
  },
  {
   "cell_type": "code",
   "execution_count": 51,
   "id": "f1991728",
   "metadata": {
    "execution": {
     "iopub.execute_input": "2024-03-06T15:10:51.442354Z",
     "iopub.status.busy": "2024-03-06T15:10:51.442059Z",
     "iopub.status.idle": "2024-03-06T15:10:51.450727Z",
     "shell.execute_reply": "2024-03-06T15:10:51.449932Z"
    },
    "id": "yC7wl3J8wJFv",
    "outputId": "02e92bc3-da5c-4e61-cb0e-0cde293dac05",
    "papermill": {
     "duration": 0.036187,
     "end_time": "2024-03-06T15:10:51.452572",
     "exception": false,
     "start_time": "2024-03-06T15:10:51.416385",
     "status": "completed"
    },
    "tags": []
   },
   "outputs": [
    {
     "data": {
      "text/plain": [
       "0         congress leader baljinder singh shot dead hous...\n",
       "1         another neet aspirant died suicide rajasthans ...\n",
       "2         order mark firstever working day new parliamen...\n",
       "3         congress president mallikarjun kharge speaking...\n",
       "4         sri sathya ganapathi temple bengaluru adorned ...\n",
       "                                ...                        \n",
       "199701    pancreas incredibly important organ particular...\n",
       "199702    recent study published oral diseases reported ...\n",
       "199703    hospitalacquired infections hais refer infecti...\n",
       "199704    scientists university oxford uk launched first...\n",
       "199705    high blood pressure happens force blood pushin...\n",
       "Name: Content, Length: 199706, dtype: object"
      ]
     },
     "execution_count": 51,
     "metadata": {},
     "output_type": "execute_result"
    }
   ],
   "source": [
    "X"
   ]
  },
  {
   "cell_type": "code",
   "execution_count": 52,
   "id": "7edd526a",
   "metadata": {
    "execution": {
     "iopub.execute_input": "2024-03-06T15:10:51.503795Z",
     "iopub.status.busy": "2024-03-06T15:10:51.503514Z",
     "iopub.status.idle": "2024-03-06T15:10:51.509107Z",
     "shell.execute_reply": "2024-03-06T15:10:51.508227Z"
    },
    "id": "06JETG3GwLAC",
    "outputId": "80a43531-3a98-46b9-f6f4-ed35222d1aeb",
    "papermill": {
     "duration": 0.033591,
     "end_time": "2024-03-06T15:10:51.511147",
     "exception": false,
     "start_time": "2024-03-06T15:10:51.477556",
     "status": "completed"
    },
    "tags": []
   },
   "outputs": [
    {
     "data": {
      "text/plain": [
       "(199706,)"
      ]
     },
     "execution_count": 52,
     "metadata": {},
     "output_type": "execute_result"
    }
   ],
   "source": [
    "y.shape"
   ]
  },
  {
   "cell_type": "code",
   "execution_count": 53,
   "id": "d1a1dd66",
   "metadata": {
    "execution": {
     "iopub.execute_input": "2024-03-06T15:10:51.562956Z",
     "iopub.status.busy": "2024-03-06T15:10:51.562622Z",
     "iopub.status.idle": "2024-03-06T15:10:51.568420Z",
     "shell.execute_reply": "2024-03-06T15:10:51.567617Z"
    },
    "id": "Rby1gMjBLB_A",
    "outputId": "dbc1443a-3e17-4dab-ff4e-905d69398bf7",
    "papermill": {
     "duration": 0.033629,
     "end_time": "2024-03-06T15:10:51.570243",
     "exception": false,
     "start_time": "2024-03-06T15:10:51.536614",
     "status": "completed"
    },
    "tags": []
   },
   "outputs": [
    {
     "data": {
      "text/plain": [
       "array([284, 284, 284, ...,  72, 346,  72])"
      ]
     },
     "execution_count": 53,
     "metadata": {},
     "output_type": "execute_result"
    }
   ],
   "source": [
    "y_encoded"
   ]
  },
  {
   "cell_type": "code",
   "execution_count": 54,
   "id": "0843edaa",
   "metadata": {
    "execution": {
     "iopub.execute_input": "2024-03-06T15:10:51.622218Z",
     "iopub.status.busy": "2024-03-06T15:10:51.621961Z",
     "iopub.status.idle": "2024-03-06T15:10:51.673038Z",
     "shell.execute_reply": "2024-03-06T15:10:51.672250Z"
    },
    "id": "pbwCZAbXlPA0",
    "papermill": {
     "duration": 0.079181,
     "end_time": "2024-03-06T15:10:51.675045",
     "exception": false,
     "start_time": "2024-03-06T15:10:51.595864",
     "status": "completed"
    },
    "tags": []
   },
   "outputs": [],
   "source": [
    "from sklearn.model_selection import train_test_split\n",
    "\n",
    "# Split the data into training and testing sets\n",
    "X_train, X_test, y_train, y_test = train_test_split(X, y_encoded, test_size=0.2, random_state=42)"
   ]
  },
  {
   "cell_type": "markdown",
   "id": "8e984574",
   "metadata": {
    "id": "51RBebNT61I-",
    "papermill": {
     "duration": 0.026406,
     "end_time": "2024-03-06T15:10:51.727495",
     "exception": false,
     "start_time": "2024-03-06T15:10:51.701089",
     "status": "completed"
    },
    "tags": []
   },
   "source": [
    "# Modeling"
   ]
  },
  {
   "cell_type": "markdown",
   "id": "66b49b9b",
   "metadata": {
    "id": "pJVd5yMGelHj",
    "papermill": {
     "duration": 0.025483,
     "end_time": "2024-03-06T15:10:51.778423",
     "exception": false,
     "start_time": "2024-03-06T15:10:51.752940",
     "status": "completed"
    },
    "tags": []
   },
   "source": [
    "## BOW"
   ]
  },
  {
   "cell_type": "code",
   "execution_count": 55,
   "id": "89038b9f",
   "metadata": {
    "execution": {
     "iopub.execute_input": "2024-03-06T15:10:51.831091Z",
     "iopub.status.busy": "2024-03-06T15:10:51.830284Z",
     "iopub.status.idle": "2024-03-06T15:11:05.277306Z",
     "shell.execute_reply": "2024-03-06T15:11:05.276342Z"
    },
    "id": "P-gStvGXUgwC",
    "outputId": "702136b7-c01e-4e42-b929-121595a9f5fe",
    "papermill": {
     "duration": 13.47927,
     "end_time": "2024-03-06T15:11:05.282957",
     "exception": false,
     "start_time": "2024-03-06T15:10:51.803687",
     "status": "completed"
    },
    "tags": []
   },
   "outputs": [
    {
     "name": "stdout",
     "output_type": "stream",
     "text": [
      "MultinomialNB with Bag of Words accuracy: 0.892\n",
      "Classification Report:\n",
      "               precision    recall  f1-score   support\n",
      "\n",
      "           0       0.00      0.00      0.00        32\n",
      "           1       0.00      0.00      0.00         8\n",
      "           2       1.00      1.00      1.00        11\n",
      "           3       1.00      0.83      0.91        30\n",
      "           4       1.00      1.00      1.00         9\n",
      "           5       0.00      0.00      0.00         7\n",
      "           6       0.00      0.00      0.00         1\n",
      "           7       1.00      1.00      1.00         2\n",
      "           8       1.00      1.00      1.00        18\n",
      "           9       1.00      0.71      0.83         7\n",
      "          10       0.00      0.00      0.00         2\n",
      "          11       1.00      1.00      1.00         2\n",
      "          12       1.00      1.00      1.00        15\n",
      "          13       0.00      0.00      0.00         7\n",
      "          14       1.00      1.00      1.00        10\n",
      "          15       1.00      1.00      1.00         6\n",
      "          16       1.00      1.00      1.00         4\n",
      "          17       1.00      1.00      1.00         5\n",
      "          18       1.00      0.29      0.44         7\n",
      "          19       0.00      0.00      0.00         1\n",
      "          20       0.00      0.00      0.00         1\n",
      "          21       1.00      1.00      1.00         4\n",
      "          22       1.00      1.00      1.00         1\n",
      "          23       1.00      1.00      1.00         9\n",
      "          24       1.00      0.75      0.86         4\n",
      "          25       1.00      1.00      1.00         4\n",
      "          26       0.00      0.00      0.00         1\n",
      "          28       1.00      1.00      1.00         7\n",
      "          30       1.00      1.00      1.00        13\n",
      "          31       1.00      0.64      0.78        14\n",
      "          32       1.00      1.00      1.00         7\n",
      "          33       0.00      0.00      0.00         1\n",
      "          34       1.00      1.00      1.00         3\n",
      "          35       1.00      1.00      1.00         3\n",
      "          36       1.00      1.00      1.00         1\n",
      "          38       0.00      0.00      0.00         3\n",
      "          39       0.00      0.00      0.00         3\n",
      "          40       1.00      1.00      1.00         1\n",
      "          41       1.00      1.00      1.00         1\n",
      "          42       1.00      1.00      1.00         3\n",
      "          43       1.00      1.00      1.00         3\n",
      "          44       1.00      1.00      1.00        12\n",
      "          45       1.00      0.60      0.75         5\n",
      "          46       1.00      1.00      1.00        30\n",
      "          47       1.00      1.00      1.00         4\n",
      "          48       1.00      0.81      0.90        32\n",
      "          49       1.00      1.00      1.00         9\n",
      "          50       0.00      0.00      0.00         1\n",
      "          51       1.00      1.00      1.00         3\n",
      "          52       0.00      0.00      0.00         1\n",
      "          53       1.00      1.00      1.00         3\n",
      "          54       1.00      1.00      1.00         4\n",
      "          55       1.00      1.00      1.00         4\n",
      "          56       1.00      1.00      1.00         1\n",
      "          57       1.00      1.00      1.00         4\n",
      "          58       0.00      0.00      0.00         4\n",
      "          59       1.00      0.67      0.80         9\n",
      "          60       1.00      1.00      1.00        58\n",
      "          61       1.00      1.00      1.00         3\n",
      "          62       0.00      0.00      0.00         2\n",
      "          63       1.00      0.50      0.67         2\n",
      "          64       1.00      1.00      1.00        24\n",
      "          65       1.00      0.09      0.17        11\n",
      "          66       0.00      0.00      0.00         3\n",
      "          67       1.00      0.04      0.08        23\n",
      "          68       1.00      1.00      1.00         4\n",
      "          69       1.00      0.84      0.91       174\n",
      "          70       1.00      0.93      0.96        56\n",
      "          71       1.00      1.00      1.00         6\n",
      "          72       0.84      0.96      0.90       839\n",
      "          73       1.00      0.14      0.25        14\n",
      "          74       1.00      0.75      0.86         4\n",
      "          75       0.00      0.00      0.00         3\n",
      "          76       1.00      0.50      0.67         2\n",
      "          77       0.00      0.00      0.00         3\n",
      "          78       0.00      0.00      0.00         2\n",
      "          80       0.00      0.00      0.00         2\n",
      "          81       0.00      0.00      0.00         4\n",
      "          82       0.00      0.00      0.00         1\n",
      "          83       0.98      0.20      0.33       235\n",
      "          84       0.00      0.00      0.00         1\n",
      "          85       1.00      1.00      1.00         8\n",
      "          86       0.00      0.00      0.00         4\n",
      "          87       1.00      0.17      0.29         6\n",
      "          88       0.00      0.00      0.00         9\n",
      "          89       1.00      1.00      1.00         3\n",
      "          90       0.00      0.00      0.00         1\n",
      "          91       1.00      0.93      0.97        46\n",
      "          92       1.00      1.00      1.00        12\n",
      "          93       1.00      1.00      1.00        15\n",
      "          94       1.00      1.00      1.00        69\n",
      "          95       1.00      0.99      0.99       186\n",
      "          96       1.00      1.00      1.00        32\n",
      "          97       1.00      0.97      0.99       187\n",
      "          98       0.98      1.00      0.99      1371\n",
      "          99       1.00      1.00      1.00        13\n",
      "         100       0.00      0.00      0.00         4\n",
      "         101       0.97      0.97      0.97       138\n",
      "         102       1.00      1.00      1.00        10\n",
      "         103       1.00      1.00      1.00        12\n",
      "         104       1.00      1.00      1.00        18\n",
      "         105       1.00      1.00      1.00        15\n",
      "         106       1.00      1.00      1.00        70\n",
      "         107       1.00      1.00      1.00        15\n",
      "         108       1.00      1.00      1.00        10\n",
      "         109       0.99      1.00      1.00       372\n",
      "         110       0.00      0.00      0.00         6\n",
      "         111       1.00      1.00      1.00         9\n",
      "         112       1.00      1.00      1.00         7\n",
      "         113       1.00      1.00      1.00         6\n",
      "         114       1.00      0.97      0.98       190\n",
      "         115       1.00      0.80      0.89        10\n",
      "         116       1.00      0.88      0.94        42\n",
      "         117       0.00      0.00      0.00         1\n",
      "         118       1.00      1.00      1.00         3\n",
      "         119       1.00      0.60      0.75        15\n",
      "         120       0.89      1.00      0.94         8\n",
      "         121       0.00      0.00      0.00         5\n",
      "         122       1.00      0.42      0.59        12\n",
      "         123       0.00      0.00      0.00         2\n",
      "         124       0.00      0.00      0.00         5\n",
      "         125       0.00      0.00      0.00         4\n",
      "         126       1.00      0.72      0.84        40\n",
      "         127       1.00      1.00      1.00        87\n",
      "         128       1.00      1.00      1.00         6\n",
      "         129       1.00      1.00      1.00         5\n",
      "         130       1.00      1.00      1.00         5\n",
      "         131       1.00      0.67      0.80        24\n",
      "         132       1.00      1.00      1.00        57\n",
      "         133       0.97      0.63      0.76       234\n",
      "         134       1.00      1.00      1.00         9\n",
      "         135       1.00      1.00      1.00        22\n",
      "         136       1.00      0.89      0.94        18\n",
      "         137       0.00      0.00      0.00         3\n",
      "         138       0.00      0.00      0.00         3\n",
      "         139       1.00      1.00      1.00         4\n",
      "         140       1.00      0.80      0.89         5\n",
      "         141       1.00      0.11      0.20         9\n",
      "         142       1.00      1.00      1.00        12\n",
      "         143       1.00      0.69      0.81        16\n",
      "         144       1.00      1.00      1.00        27\n",
      "         145       1.00      1.00      1.00         4\n",
      "         146       1.00      0.64      0.78        33\n",
      "         147       1.00      1.00      1.00        55\n",
      "         148       1.00      0.33      0.50         6\n",
      "         149       0.00      0.00      0.00         5\n",
      "         150       1.00      1.00      1.00       116\n",
      "         151       0.00      0.00      0.00         3\n",
      "         152       1.00      1.00      1.00        16\n",
      "         153       0.87      0.94      0.90      1322\n",
      "         154       1.00      0.83      0.91        18\n",
      "         155       0.98      0.86      0.92       619\n",
      "         156       1.00      1.00      1.00         3\n",
      "         157       0.91      0.91      0.91       769\n",
      "         158       1.00      0.96      0.98       136\n",
      "         159       0.80      0.91      0.85      1407\n",
      "         160       1.00      1.00      1.00         1\n",
      "         161       0.98      0.89      0.93        53\n",
      "         162       0.00      0.00      0.00         2\n",
      "         163       1.00      0.40      0.57         5\n",
      "         164       0.00      0.00      0.00         2\n",
      "         165       0.00      0.00      0.00         2\n",
      "         167       1.00      1.00      1.00        31\n",
      "         168       1.00      1.00      1.00        54\n",
      "         169       1.00      1.00      1.00         6\n",
      "         170       1.00      1.00      1.00         9\n",
      "         171       1.00      1.00      1.00        71\n",
      "         172       1.00      1.00      1.00         7\n",
      "         173       1.00      1.00      1.00        11\n",
      "         174       1.00      1.00      1.00         3\n",
      "         175       1.00      1.00      1.00        13\n",
      "         176       1.00      1.00      1.00        16\n",
      "         177       1.00      1.00      1.00         5\n",
      "         178       1.00      1.00      1.00         3\n",
      "         179       1.00      0.33      0.50         6\n",
      "         180       1.00      0.75      0.86         8\n",
      "         181       0.97      0.98      0.97      1243\n",
      "         182       1.00      1.00      1.00         5\n",
      "         183       1.00      1.00      1.00        10\n",
      "         184       1.00      1.00      1.00         2\n",
      "         185       1.00      1.00      1.00        16\n",
      "         186       1.00      1.00      1.00         1\n",
      "         187       1.00      1.00      1.00        23\n",
      "         188       1.00      0.82      0.90        17\n",
      "         189       1.00      1.00      1.00        12\n",
      "         190       0.00      0.00      0.00         1\n",
      "         191       1.00      1.00      1.00        14\n",
      "         192       1.00      1.00      1.00         5\n",
      "         193       1.00      1.00      1.00         3\n",
      "         194       1.00      1.00      1.00        37\n",
      "         195       1.00      0.99      0.99        72\n",
      "         196       0.93      0.92      0.92       795\n",
      "         197       1.00      1.00      1.00        10\n",
      "         198       1.00      0.95      0.98        22\n",
      "         199       0.00      0.00      0.00         3\n",
      "         200       0.99      1.00      0.99      1437\n",
      "         201       1.00      0.25      0.40         4\n",
      "         202       0.92      0.61      0.73       216\n",
      "         203       0.00      0.00      0.00         1\n",
      "         204       1.00      0.92      0.96        12\n",
      "         205       1.00      1.00      1.00         2\n",
      "         206       1.00      1.00      1.00         6\n",
      "         207       1.00      0.50      0.67        10\n",
      "         208       1.00      0.68      0.81        38\n",
      "         209       1.00      1.00      1.00         3\n",
      "         210       0.88      0.96      0.92      2187\n",
      "         211       1.00      1.00      1.00       667\n",
      "         212       0.00      0.00      0.00         3\n",
      "         213       1.00      1.00      1.00        11\n",
      "         214       0.00      0.00      0.00         3\n",
      "         215       1.00      1.00      1.00        18\n",
      "         216       1.00      1.00      1.00        11\n",
      "         217       1.00      1.00      1.00         2\n",
      "         218       1.00      1.00      1.00         3\n",
      "         219       0.00      0.00      0.00         1\n",
      "         220       1.00      1.00      1.00         4\n",
      "         221       1.00      0.50      0.67         2\n",
      "         222       1.00      1.00      1.00         1\n",
      "         223       1.00      1.00      1.00        26\n",
      "         224       1.00      1.00      1.00         2\n",
      "         225       0.00      0.00      0.00         1\n",
      "         226       1.00      1.00      1.00         5\n",
      "         227       1.00      1.00      1.00         3\n",
      "         228       1.00      1.00      1.00         2\n",
      "         229       0.00      0.00      0.00         1\n",
      "         230       1.00      0.91      0.95        11\n",
      "         231       1.00      1.00      1.00        11\n",
      "         232       1.00      1.00      1.00         1\n",
      "         233       1.00      0.35      0.52        34\n",
      "         234       0.00      0.00      0.00         6\n",
      "         235       1.00      1.00      1.00         6\n",
      "         236       1.00      1.00      1.00         1\n",
      "         237       1.00      1.00      1.00        18\n",
      "         238       0.00      0.00      0.00         3\n",
      "         239       0.00      0.00      0.00        12\n",
      "         240       1.00      0.75      0.86         8\n",
      "         241       1.00      0.95      0.97        59\n",
      "         242       1.00      1.00      1.00         2\n",
      "         243       1.00      0.62      0.77         8\n",
      "         245       1.00      1.00      1.00         3\n",
      "         246       0.00      0.00      0.00         3\n",
      "         247       0.00      0.00      0.00        13\n",
      "         248       0.00      0.00      0.00         1\n",
      "         249       1.00      1.00      1.00         4\n",
      "         250       1.00      0.92      0.96        36\n",
      "         251       1.00      0.33      0.50         6\n",
      "         252       1.00      0.25      0.40         8\n",
      "         253       1.00      0.50      0.67        10\n",
      "         254       1.00      0.17      0.29         6\n",
      "         255       1.00      0.80      0.89         5\n",
      "         256       1.00      1.00      1.00         5\n",
      "         257       1.00      1.00      1.00         2\n",
      "         258       1.00      1.00      1.00        18\n",
      "         259       1.00      1.00      1.00         8\n",
      "         260       1.00      0.29      0.45        34\n",
      "         261       1.00      1.00      1.00        10\n",
      "         262       0.00      0.00      0.00         5\n",
      "         263       1.00      1.00      1.00        10\n",
      "         264       1.00      0.82      0.90        11\n",
      "         265       1.00      0.66      0.80        59\n",
      "         266       0.00      0.00      0.00         2\n",
      "         267       1.00      0.20      0.33         5\n",
      "         268       1.00      0.78      0.88        18\n",
      "         269       1.00      1.00      1.00         4\n",
      "         270       1.00      0.44      0.61        16\n",
      "         271       0.99      1.00      1.00       107\n",
      "         272       0.00      0.00      0.00         3\n",
      "         273       1.00      1.00      1.00         3\n",
      "         274       1.00      1.00      1.00         4\n",
      "         275       1.00      1.00      1.00         4\n",
      "         276       0.95      0.88      0.91      2132\n",
      "         277       1.00      1.00      1.00         2\n",
      "         278       0.88      0.98      0.93       463\n",
      "         279       0.00      0.00      0.00         1\n",
      "         280       1.00      1.00      1.00        38\n",
      "         281       1.00      1.00      1.00         4\n",
      "         282       0.95      0.77      0.85       154\n",
      "         283       0.96      0.98      0.97       898\n",
      "         284       0.66      0.81      0.73      1516\n",
      "         285       1.00      1.00      1.00         7\n",
      "         286       1.00      0.33      0.50         6\n",
      "         287       1.00      0.45      0.62        11\n",
      "         288       0.00      0.00      0.00        14\n",
      "         289       0.00      0.00      0.00         3\n",
      "         290       1.00      0.74      0.85        23\n",
      "         291       1.00      0.71      0.83        14\n",
      "         292       0.00      0.00      0.00        12\n",
      "         293       1.00      1.00      1.00        49\n",
      "         294       1.00      1.00      1.00        11\n",
      "         295       1.00      1.00      1.00         4\n",
      "         296       1.00      1.00      1.00         2\n",
      "         297       1.00      1.00      1.00         3\n",
      "         298       1.00      0.92      0.96        76\n",
      "         300       1.00      1.00      1.00         6\n",
      "         301       1.00      0.50      0.67         8\n",
      "         302       1.00      0.58      0.74        24\n",
      "         303       1.00      0.57      0.73        35\n",
      "         304       1.00      1.00      1.00         5\n",
      "         305       1.00      1.00      1.00         7\n",
      "         306       1.00      1.00      1.00         2\n",
      "         307       0.00      0.00      0.00         3\n",
      "         308       0.00      0.00      0.00         7\n",
      "         309       1.00      1.00      1.00         1\n",
      "         310       0.00      0.00      0.00         1\n",
      "         311       1.00      1.00      1.00        21\n",
      "         312       0.00      0.00      0.00         3\n",
      "         313       1.00      0.87      0.93        63\n",
      "         314       1.00      1.00      1.00         2\n",
      "         315       1.00      0.76      0.87        17\n",
      "         316       1.00      0.54      0.70        13\n",
      "         318       0.88      0.65      0.75        46\n",
      "         319       1.00      0.67      0.80         3\n",
      "         320       0.79      0.80      0.80      1439\n",
      "         322       0.00      0.00      0.00         1\n",
      "         323       0.00      0.00      0.00         9\n",
      "         324       1.00      0.08      0.14        13\n",
      "         325       1.00      0.14      0.25        14\n",
      "         326       0.00      0.00      0.00         2\n",
      "         327       1.00      0.53      0.69        19\n",
      "         328       0.00      0.00      0.00         3\n",
      "         329       0.00      0.00      0.00         3\n",
      "         330       1.00      1.00      1.00         6\n",
      "         331       1.00      1.00      1.00         6\n",
      "         332       1.00      1.00      1.00         2\n",
      "         333       1.00      1.00      1.00         4\n",
      "         334       1.00      1.00      1.00         1\n",
      "         336       1.00      0.33      0.50         3\n",
      "         337       1.00      1.00      1.00         7\n",
      "         338       1.00      0.57      0.73        14\n",
      "         339       1.00      0.63      0.77        35\n",
      "         340       1.00      1.00      1.00         1\n",
      "         341       1.00      1.00      1.00         2\n",
      "         342       1.00      0.50      0.67        80\n",
      "         343       0.81      0.90      0.85      1533\n",
      "         345       1.00      0.89      0.94        37\n",
      "         346       0.95      1.00      0.97       645\n",
      "         347       1.00      0.53      0.70        15\n",
      "         348       0.98      0.95      0.96       207\n",
      "         349       0.97      0.79      0.87       180\n",
      "         350       0.93      0.96      0.95      1736\n",
      "         351       0.00      0.00      0.00         4\n",
      "         352       1.00      0.03      0.06        30\n",
      "         353       0.89      0.92      0.90       235\n",
      "         354       0.00      0.00      0.00         2\n",
      "         355       1.00      1.00      1.00         9\n",
      "         356       0.00      0.00      0.00        12\n",
      "         357       0.00      0.00      0.00        10\n",
      "         358       0.00      0.00      0.00         2\n",
      "         359       0.71      0.93      0.81       581\n",
      "         360       1.00      1.00      1.00         6\n",
      "         361       0.00      0.00      0.00         1\n",
      "         362       1.00      1.00      1.00         5\n",
      "         363       1.00      1.00      1.00         2\n",
      "         364       1.00      1.00      1.00         1\n",
      "         365       1.00      0.14      0.25         7\n",
      "         366       0.00      0.00      0.00         1\n",
      "         367       0.00      0.00      0.00         5\n",
      "         368       1.00      1.00      1.00         5\n",
      "         369       1.00      0.53      0.70        86\n",
      "         370       0.00      0.00      0.00         2\n",
      "         371       1.00      0.92      0.96        39\n",
      "         372       0.00      0.00      0.00         2\n",
      "         373       1.00      1.00      1.00        17\n",
      "         374       0.88      0.29      0.43        73\n",
      "         375       1.00      1.00      1.00         1\n",
      "         376       1.00      1.00      1.00         8\n",
      "         377       1.00      0.50      0.67         2\n",
      "         378       1.00      1.00      1.00         2\n",
      "         379       1.00      0.24      0.38        17\n",
      "         380       1.00      0.86      0.92         7\n",
      "         381       0.80      0.91      0.85      1419\n",
      "         382       1.00      1.00      1.00         4\n",
      "         383       1.00      0.98      0.99        44\n",
      "         384       1.00      1.00      1.00         7\n",
      "         385       0.00      0.00      0.00         6\n",
      "         386       0.00      0.00      0.00         1\n",
      "         387       1.00      1.00      1.00         9\n",
      "         388       1.00      0.58      0.74        43\n",
      "         389       1.00      0.74      0.85        27\n",
      "         390       0.83      0.95      0.89       140\n",
      "         391       0.73      0.86      0.79        28\n",
      "         392       0.00      0.00      0.00         3\n",
      "         393       0.96      0.89      0.92       410\n",
      "         394       1.00      1.00      1.00        10\n",
      "         395       0.92      0.92      0.92       899\n",
      "         396       0.00      0.00      0.00         6\n",
      "         397       1.00      1.00      1.00        21\n",
      "         398       1.00      0.97      0.98        60\n",
      "         399       0.83      0.94      0.88      1004\n",
      "         400       0.97      0.98      0.98       585\n",
      "         401       1.00      1.00      1.00        32\n",
      "         402       1.00      0.67      0.80         9\n",
      "         403       1.00      1.00      1.00         9\n",
      "         404       0.00      0.00      0.00         6\n",
      "         405       1.00      1.00      1.00         2\n",
      "         406       0.00      0.00      0.00         1\n",
      "         407       0.99      0.95      0.97       246\n",
      "         408       1.00      1.00      1.00        10\n",
      "         409       0.74      0.92      0.82       449\n",
      "         410       0.00      0.00      0.00         2\n",
      "         411       0.00      0.00      0.00         4\n",
      "         412       1.00      0.34      0.50        80\n",
      "         413       1.00      1.00      1.00         1\n",
      "         414       1.00      1.00      1.00         8\n",
      "         415       0.00      0.00      0.00        13\n",
      "         416       0.00      0.00      0.00         2\n",
      "         417       1.00      1.00      1.00         6\n",
      "         419       1.00      0.26      0.41        27\n",
      "         420       1.00      1.00      1.00        23\n",
      "         421       1.00      0.38      0.55         8\n",
      "         422       0.00      0.00      0.00         6\n",
      "         423       0.83      0.71      0.77        21\n",
      "         424       1.00      1.00      1.00         8\n",
      "         425       0.98      1.00      0.99        41\n",
      "         426       0.99      0.65      0.79       149\n",
      "         427       0.89      1.00      0.94         8\n",
      "         428       0.00      0.00      0.00         1\n",
      "         429       1.00      1.00      1.00         1\n",
      "         430       1.00      1.00      1.00         5\n",
      "         431       1.00      0.95      0.98        62\n",
      "         432       1.00      1.00      1.00         5\n",
      "         433       1.00      0.97      0.99       109\n",
      "         434       1.00      1.00      1.00         6\n",
      "         435       1.00      0.50      0.67        22\n",
      "         436       1.00      1.00      1.00        39\n",
      "         437       1.00      0.42      0.59        31\n",
      "         438       1.00      1.00      1.00         5\n",
      "         439       1.00      1.00      1.00        26\n",
      "         440       0.98      0.61      0.75        72\n",
      "         441       1.00      1.00      1.00       100\n",
      "         442       0.00      0.00      0.00         1\n",
      "         443       1.00      0.14      0.25         7\n",
      "         444       0.00      0.00      0.00         4\n",
      "         445       1.00      0.50      0.67         2\n",
      "         446       1.00      1.00      1.00         9\n",
      "         447       1.00      1.00      1.00         2\n",
      "         448       1.00      1.00      1.00         2\n",
      "         449       1.00      1.00      1.00         7\n",
      "         450       1.00      1.00      1.00         5\n",
      "         451       1.00      1.00      1.00         1\n",
      "         452       1.00      1.00      1.00         6\n",
      "         453       1.00      0.33      0.50         3\n",
      "         454       1.00      0.88      0.93        56\n",
      "         455       1.00      0.84      0.91        19\n",
      "         456       0.88      0.36      0.51        42\n",
      "         457       0.00      0.00      0.00         1\n",
      "         458       1.00      0.60      0.75         5\n",
      "         459       1.00      1.00      1.00        51\n",
      "         460       0.79      0.89      0.84       680\n",
      "         461       0.00      0.00      0.00         4\n",
      "         462       1.00      0.95      0.98        22\n",
      "         463       1.00      1.00      1.00         6\n",
      "         464       0.00      0.00      0.00         4\n",
      "         465       1.00      1.00      1.00         6\n",
      "         466       1.00      0.40      0.57         5\n",
      "         467       1.00      0.94      0.96       263\n",
      "         468       0.00      0.00      0.00         1\n",
      "         469       0.00      0.00      0.00         4\n",
      "         470       0.00      0.00      0.00         2\n",
      "         471       1.00      1.00      1.00         1\n",
      "         472       0.00      0.00      0.00         8\n",
      "         473       1.00      0.33      0.50        39\n",
      "         474       1.00      1.00      1.00         1\n",
      "         475       1.00      0.89      0.94         9\n",
      "         476       1.00      1.00      1.00         3\n",
      "         477       0.88      0.68      0.76        31\n",
      "         478       1.00      0.64      0.78       117\n",
      "         479       0.98      1.00      0.99       268\n",
      "         480       0.79      0.82      0.80      1157\n",
      "\n",
      "    accuracy                           0.89     39942\n",
      "   macro avg       0.77      0.67      0.70     39942\n",
      "weighted avg       0.89      0.89      0.88     39942\n",
      "\n"
     ]
    },
    {
     "name": "stderr",
     "output_type": "stream",
     "text": [
      "/opt/conda/lib/python3.10/site-packages/sklearn/metrics/_classification.py:1344: UndefinedMetricWarning: Precision and F-score are ill-defined and being set to 0.0 in labels with no predicted samples. Use `zero_division` parameter to control this behavior.\n",
      "  _warn_prf(average, modifier, msg_start, len(result))\n",
      "/opt/conda/lib/python3.10/site-packages/sklearn/metrics/_classification.py:1344: UndefinedMetricWarning: Precision and F-score are ill-defined and being set to 0.0 in labels with no predicted samples. Use `zero_division` parameter to control this behavior.\n",
      "  _warn_prf(average, modifier, msg_start, len(result))\n",
      "/opt/conda/lib/python3.10/site-packages/sklearn/metrics/_classification.py:1344: UndefinedMetricWarning: Precision and F-score are ill-defined and being set to 0.0 in labels with no predicted samples. Use `zero_division` parameter to control this behavior.\n",
      "  _warn_prf(average, modifier, msg_start, len(result))\n"
     ]
    }
   ],
   "source": [
    "# Multinomial Naive Bayes with Bag of Words\n",
    "from sklearn.naive_bayes import MultinomialNB\n",
    "from sklearn.feature_extraction.text import CountVectorizer\n",
    "from sklearn.pipeline import make_pipeline\n",
    "from sklearn.metrics import accuracy_score,classification_report\n",
    "\n",
    "\n",
    "model = make_pipeline(CountVectorizer(), MultinomialNB())\n",
    "\n",
    "model.fit(X_train, y_train)\n",
    "\n",
    "y_pred = model.predict(X_test)\n",
    "\n",
    "accuracy = accuracy_score(y_test, y_pred)\n",
    "print(f\"MultinomialNB with Bag of Words accuracy: {accuracy:.3f}\")\n",
    "# Print classification report\n",
    "print(\"Classification Report:\\n\", classification_report(y_test, y_pred))"
   ]
  },
  {
   "cell_type": "markdown",
   "id": "6a2d7faa",
   "metadata": {
    "id": "R_X2vz14EarG",
    "papermill": {
     "duration": 0.025993,
     "end_time": "2024-03-06T15:11:05.336747",
     "exception": false,
     "start_time": "2024-03-06T15:11:05.310754",
     "status": "completed"
    },
    "tags": []
   },
   "source": [
    "## Cross-validation"
   ]
  },
  {
   "cell_type": "code",
   "execution_count": 56,
   "id": "f45fa54f",
   "metadata": {
    "execution": {
     "iopub.execute_input": "2024-03-06T15:11:05.391493Z",
     "iopub.status.busy": "2024-03-06T15:11:05.390934Z",
     "iopub.status.idle": "2024-03-06T15:11:45.259469Z",
     "shell.execute_reply": "2024-03-06T15:11:45.258435Z"
    },
    "id": "YvDE2RCG0zdV",
    "outputId": "3954cec8-464e-4d66-dd37-26ae7ccb3a33",
    "papermill": {
     "duration": 39.927868,
     "end_time": "2024-03-06T15:11:45.291776",
     "exception": false,
     "start_time": "2024-03-06T15:11:05.363908",
     "status": "completed"
    },
    "tags": []
   },
   "outputs": [
    {
     "name": "stdout",
     "output_type": "stream",
     "text": [
      "Cross-Validation Scores:[0.87907284 0.88003425 0.88290169]\n",
      "Mean Accuracy: 0.88\n"
     ]
    }
   ],
   "source": [
    "from sklearn.model_selection import cross_val_score\n",
    "from sklearn.model_selection import StratifiedKFold\n",
    "\n",
    "cv_scores = cross_val_score(model, X, y_encoded, cv=StratifiedKFold(n_splits=3, shuffle=True), scoring='accuracy')\n",
    "\n",
    "print(f\"Cross-Validation Scores:{cv_scores}\")\n",
    "\n",
    "print(f\"Mean Accuracy: {np.mean(cv_scores):.2f}\")"
   ]
  },
  {
   "cell_type": "markdown",
   "id": "d3b8dd78",
   "metadata": {
    "id": "NjohHT3ZEe3s",
    "papermill": {
     "duration": 0.025957,
     "end_time": "2024-03-06T15:11:45.344334",
     "exception": false,
     "start_time": "2024-03-06T15:11:45.318377",
     "status": "completed"
    },
    "tags": []
   },
   "source": [
    "## Fine-tuning"
   ]
  },
  {
   "cell_type": "code",
   "execution_count": 57,
   "id": "7724b0a8",
   "metadata": {
    "execution": {
     "iopub.execute_input": "2024-03-06T15:11:45.398163Z",
     "iopub.status.busy": "2024-03-06T15:11:45.397849Z",
     "iopub.status.idle": "2024-03-06T15:19:25.234008Z",
     "shell.execute_reply": "2024-03-06T15:19:25.232977Z"
    },
    "id": "IdivdCxc_F4x",
    "outputId": "c206ace6-632a-4d06-8ca6-5220c5023255",
    "papermill": {
     "duration": 459.892861,
     "end_time": "2024-03-06T15:19:25.263183",
     "exception": false,
     "start_time": "2024-03-06T15:11:45.370322",
     "status": "completed"
    },
    "tags": []
   },
   "outputs": [
    {
     "name": "stdout",
     "output_type": "stream",
     "text": [
      "Fitting 5 folds for each of 5 candidates, totalling 25 fits\n"
     ]
    },
    {
     "data": {
      "text/html": [
       "<style>#sk-container-id-1 {color: black;background-color: white;}#sk-container-id-1 pre{padding: 0;}#sk-container-id-1 div.sk-toggleable {background-color: white;}#sk-container-id-1 label.sk-toggleable__label {cursor: pointer;display: block;width: 100%;margin-bottom: 0;padding: 0.3em;box-sizing: border-box;text-align: center;}#sk-container-id-1 label.sk-toggleable__label-arrow:before {content: \"▸\";float: left;margin-right: 0.25em;color: #696969;}#sk-container-id-1 label.sk-toggleable__label-arrow:hover:before {color: black;}#sk-container-id-1 div.sk-estimator:hover label.sk-toggleable__label-arrow:before {color: black;}#sk-container-id-1 div.sk-toggleable__content {max-height: 0;max-width: 0;overflow: hidden;text-align: left;background-color: #f0f8ff;}#sk-container-id-1 div.sk-toggleable__content pre {margin: 0.2em;color: black;border-radius: 0.25em;background-color: #f0f8ff;}#sk-container-id-1 input.sk-toggleable__control:checked~div.sk-toggleable__content {max-height: 200px;max-width: 100%;overflow: auto;}#sk-container-id-1 input.sk-toggleable__control:checked~label.sk-toggleable__label-arrow:before {content: \"▾\";}#sk-container-id-1 div.sk-estimator input.sk-toggleable__control:checked~label.sk-toggleable__label {background-color: #d4ebff;}#sk-container-id-1 div.sk-label input.sk-toggleable__control:checked~label.sk-toggleable__label {background-color: #d4ebff;}#sk-container-id-1 input.sk-hidden--visually {border: 0;clip: rect(1px 1px 1px 1px);clip: rect(1px, 1px, 1px, 1px);height: 1px;margin: -1px;overflow: hidden;padding: 0;position: absolute;width: 1px;}#sk-container-id-1 div.sk-estimator {font-family: monospace;background-color: #f0f8ff;border: 1px dotted black;border-radius: 0.25em;box-sizing: border-box;margin-bottom: 0.5em;}#sk-container-id-1 div.sk-estimator:hover {background-color: #d4ebff;}#sk-container-id-1 div.sk-parallel-item::after {content: \"\";width: 100%;border-bottom: 1px solid gray;flex-grow: 1;}#sk-container-id-1 div.sk-label:hover label.sk-toggleable__label {background-color: #d4ebff;}#sk-container-id-1 div.sk-serial::before {content: \"\";position: absolute;border-left: 1px solid gray;box-sizing: border-box;top: 0;bottom: 0;left: 50%;z-index: 0;}#sk-container-id-1 div.sk-serial {display: flex;flex-direction: column;align-items: center;background-color: white;padding-right: 0.2em;padding-left: 0.2em;position: relative;}#sk-container-id-1 div.sk-item {position: relative;z-index: 1;}#sk-container-id-1 div.sk-parallel {display: flex;align-items: stretch;justify-content: center;background-color: white;position: relative;}#sk-container-id-1 div.sk-item::before, #sk-container-id-1 div.sk-parallel-item::before {content: \"\";position: absolute;border-left: 1px solid gray;box-sizing: border-box;top: 0;bottom: 0;left: 50%;z-index: -1;}#sk-container-id-1 div.sk-parallel-item {display: flex;flex-direction: column;z-index: 1;position: relative;background-color: white;}#sk-container-id-1 div.sk-parallel-item:first-child::after {align-self: flex-end;width: 50%;}#sk-container-id-1 div.sk-parallel-item:last-child::after {align-self: flex-start;width: 50%;}#sk-container-id-1 div.sk-parallel-item:only-child::after {width: 0;}#sk-container-id-1 div.sk-dashed-wrapped {border: 1px dashed gray;margin: 0 0.4em 0.5em 0.4em;box-sizing: border-box;padding-bottom: 0.4em;background-color: white;}#sk-container-id-1 div.sk-label label {font-family: monospace;font-weight: bold;display: inline-block;line-height: 1.2em;}#sk-container-id-1 div.sk-label-container {text-align: center;}#sk-container-id-1 div.sk-container {/* jupyter's `normalize.less` sets `[hidden] { display: none; }` but bootstrap.min.css set `[hidden] { display: none !important; }` so we also need the `!important` here to be able to override the default hidden behavior on the sphinx rendered scikit-learn.org. See: https://github.com/scikit-learn/scikit-learn/issues/21755 */display: inline-block !important;position: relative;}#sk-container-id-1 div.sk-text-repr-fallback {display: none;}</style><div id=\"sk-container-id-1\" class=\"sk-top-container\"><div class=\"sk-text-repr-fallback\"><pre>RandomizedSearchCV(cv=StratifiedKFold(n_splits=5, random_state=42, shuffle=True),\n",
       "                   estimator=Pipeline(steps=[(&#x27;countvectorizer&#x27;,\n",
       "                                              CountVectorizer()),\n",
       "                                             (&#x27;multinomialnb&#x27;,\n",
       "                                              MultinomialNB())]),\n",
       "                   n_iter=5, n_jobs=1,\n",
       "                   param_distributions={&#x27;countvectorizer__max_features&#x27;: [5000,\n",
       "                                                                          10000,\n",
       "                                                                          None],\n",
       "                                        &#x27;countvectorizer__ngram_range&#x27;: [(1, 1),\n",
       "                                                                         (1,\n",
       "                                                                          2)],\n",
       "                                        &#x27;multinomialnb__alpha&#x27;: &lt;scipy.stats._distn_infrastructure.rv_continuous_frozen object at 0x7b7406711d50&gt;},\n",
       "                   scoring=&#x27;accuracy&#x27;, verbose=1)</pre><b>In a Jupyter environment, please rerun this cell to show the HTML representation or trust the notebook. <br />On GitHub, the HTML representation is unable to render, please try loading this page with nbviewer.org.</b></div><div class=\"sk-container\" hidden><div class=\"sk-item sk-dashed-wrapped\"><div class=\"sk-label-container\"><div class=\"sk-label sk-toggleable\"><input class=\"sk-toggleable__control sk-hidden--visually\" id=\"sk-estimator-id-1\" type=\"checkbox\" ><label for=\"sk-estimator-id-1\" class=\"sk-toggleable__label sk-toggleable__label-arrow\">RandomizedSearchCV</label><div class=\"sk-toggleable__content\"><pre>RandomizedSearchCV(cv=StratifiedKFold(n_splits=5, random_state=42, shuffle=True),\n",
       "                   estimator=Pipeline(steps=[(&#x27;countvectorizer&#x27;,\n",
       "                                              CountVectorizer()),\n",
       "                                             (&#x27;multinomialnb&#x27;,\n",
       "                                              MultinomialNB())]),\n",
       "                   n_iter=5, n_jobs=1,\n",
       "                   param_distributions={&#x27;countvectorizer__max_features&#x27;: [5000,\n",
       "                                                                          10000,\n",
       "                                                                          None],\n",
       "                                        &#x27;countvectorizer__ngram_range&#x27;: [(1, 1),\n",
       "                                                                         (1,\n",
       "                                                                          2)],\n",
       "                                        &#x27;multinomialnb__alpha&#x27;: &lt;scipy.stats._distn_infrastructure.rv_continuous_frozen object at 0x7b7406711d50&gt;},\n",
       "                   scoring=&#x27;accuracy&#x27;, verbose=1)</pre></div></div></div><div class=\"sk-parallel\"><div class=\"sk-parallel-item\"><div class=\"sk-item\"><div class=\"sk-label-container\"><div class=\"sk-label sk-toggleable\"><input class=\"sk-toggleable__control sk-hidden--visually\" id=\"sk-estimator-id-2\" type=\"checkbox\" ><label for=\"sk-estimator-id-2\" class=\"sk-toggleable__label sk-toggleable__label-arrow\">estimator: Pipeline</label><div class=\"sk-toggleable__content\"><pre>Pipeline(steps=[(&#x27;countvectorizer&#x27;, CountVectorizer()),\n",
       "                (&#x27;multinomialnb&#x27;, MultinomialNB())])</pre></div></div></div><div class=\"sk-serial\"><div class=\"sk-item\"><div class=\"sk-serial\"><div class=\"sk-item\"><div class=\"sk-estimator sk-toggleable\"><input class=\"sk-toggleable__control sk-hidden--visually\" id=\"sk-estimator-id-3\" type=\"checkbox\" ><label for=\"sk-estimator-id-3\" class=\"sk-toggleable__label sk-toggleable__label-arrow\">CountVectorizer</label><div class=\"sk-toggleable__content\"><pre>CountVectorizer()</pre></div></div></div><div class=\"sk-item\"><div class=\"sk-estimator sk-toggleable\"><input class=\"sk-toggleable__control sk-hidden--visually\" id=\"sk-estimator-id-4\" type=\"checkbox\" ><label for=\"sk-estimator-id-4\" class=\"sk-toggleable__label sk-toggleable__label-arrow\">MultinomialNB</label><div class=\"sk-toggleable__content\"><pre>MultinomialNB()</pre></div></div></div></div></div></div></div></div></div></div></div></div>"
      ],
      "text/plain": [
       "RandomizedSearchCV(cv=StratifiedKFold(n_splits=5, random_state=42, shuffle=True),\n",
       "                   estimator=Pipeline(steps=[('countvectorizer',\n",
       "                                              CountVectorizer()),\n",
       "                                             ('multinomialnb',\n",
       "                                              MultinomialNB())]),\n",
       "                   n_iter=5, n_jobs=1,\n",
       "                   param_distributions={'countvectorizer__max_features': [5000,\n",
       "                                                                          10000,\n",
       "                                                                          None],\n",
       "                                        'countvectorizer__ngram_range': [(1, 1),\n",
       "                                                                         (1,\n",
       "                                                                          2)],\n",
       "                                        'multinomialnb__alpha': <scipy.stats._distn_infrastructure.rv_continuous_frozen object at 0x7b7406711d50>},\n",
       "                   scoring='accuracy', verbose=1)"
      ]
     },
     "execution_count": 57,
     "metadata": {},
     "output_type": "execute_result"
    }
   ],
   "source": [
    "from sklearn.model_selection import RandomizedSearchCV\n",
    "from scipy.stats import uniform, randint\n",
    "\n",
    "param_dist = {\n",
    "    'countvectorizer__max_features': [5000, 10000, None],\n",
    "    'countvectorizer__ngram_range': [(1, 1), (1, 2)],\n",
    "    'multinomialnb__alpha': uniform(0.1, 2.0)  # Example range for alpha\n",
    "}\n",
    "cv = StratifiedKFold(n_splits=5, shuffle=True, random_state=42)\n",
    "\n",
    "random_search = RandomizedSearchCV(model, param_distributions=param_dist, n_iter=5, scoring='accuracy', cv=cv, verbose=1, n_jobs=1)\n",
    "random_search.fit(X, y_encoded)"
   ]
  },
  {
   "cell_type": "code",
   "execution_count": 58,
   "id": "07219352",
   "metadata": {
    "execution": {
     "iopub.execute_input": "2024-03-06T15:19:25.317551Z",
     "iopub.status.busy": "2024-03-06T15:19:25.316818Z",
     "iopub.status.idle": "2024-03-06T15:19:25.321599Z",
     "shell.execute_reply": "2024-03-06T15:19:25.320763Z"
    },
    "id": "AnfXD3SM_HOF",
    "outputId": "d8fdce4b-ad00-4f51-fa2d-9a109a75ac50",
    "papermill": {
     "duration": 0.033632,
     "end_time": "2024-03-06T15:19:25.323358",
     "exception": false,
     "start_time": "2024-03-06T15:19:25.289726",
     "status": "completed"
    },
    "tags": []
   },
   "outputs": [
    {
     "name": "stdout",
     "output_type": "stream",
     "text": [
      "Best Parameters: {'countvectorizer__max_features': None, 'countvectorizer__ngram_range': (1, 1), 'multinomialnb__alpha': 0.8362174292388217}\n"
     ]
    }
   ],
   "source": [
    "best_params = random_search.best_params_\n",
    "print(\"Best Parameters:\", best_params)"
   ]
  },
  {
   "cell_type": "code",
   "execution_count": 59,
   "id": "a8b7c35b",
   "metadata": {
    "execution": {
     "iopub.execute_input": "2024-03-06T15:19:25.377590Z",
     "iopub.status.busy": "2024-03-06T15:19:25.377011Z",
     "iopub.status.idle": "2024-03-06T15:19:38.800386Z",
     "shell.execute_reply": "2024-03-06T15:19:38.799340Z"
    },
    "id": "elNCSpUBBnga",
    "outputId": "07e05248-d445-41d3-86c9-6c9d902a8683",
    "papermill": {
     "duration": 13.452669,
     "end_time": "2024-03-06T15:19:38.802550",
     "exception": false,
     "start_time": "2024-03-06T15:19:25.349881",
     "status": "completed"
    },
    "tags": []
   },
   "outputs": [
    {
     "name": "stdout",
     "output_type": "stream",
     "text": [
      "Best Model Accuracy: 0.902\n"
     ]
    }
   ],
   "source": [
    "best_model = random_search.best_estimator_\n",
    "\n",
    "best_model.fit(X_train, y_train)\n",
    "\n",
    "y_pred_best = best_model.predict(X_test)\n",
    "\n",
    "accuracy = accuracy_score(y_test, y_pred_best)\n",
    "\n",
    "print(f\"Best Model Accuracy: {accuracy:.3f}\")"
   ]
  },
  {
   "cell_type": "markdown",
   "id": "c7132cce",
   "metadata": {
    "id": "uHwpz0RCC7F-",
    "papermill": {
     "duration": 0.02631,
     "end_time": "2024-03-06T15:19:38.855980",
     "exception": false,
     "start_time": "2024-03-06T15:19:38.829670",
     "status": "completed"
    },
    "tags": []
   },
   "source": [
    "# Error Analysis"
   ]
  },
  {
   "cell_type": "code",
   "execution_count": 60,
   "id": "0ff8cb47",
   "metadata": {
    "execution": {
     "iopub.execute_input": "2024-03-06T15:19:38.910807Z",
     "iopub.status.busy": "2024-03-06T15:19:38.910524Z",
     "iopub.status.idle": "2024-03-06T15:19:38.916618Z",
     "shell.execute_reply": "2024-03-06T15:19:38.915882Z"
    },
    "id": "XGRVVEnLB3F_",
    "papermill": {
     "duration": 0.036043,
     "end_time": "2024-03-06T15:19:38.918678",
     "exception": false,
     "start_time": "2024-03-06T15:19:38.882635",
     "status": "completed"
    },
    "tags": []
   },
   "outputs": [],
   "source": [
    "# Inverse transform the predicted labels to get the original class labels\n",
    "predicted_labels_original = le.inverse_transform(y_pred_best)"
   ]
  },
  {
   "cell_type": "code",
   "execution_count": 61,
   "id": "2bd70ad2",
   "metadata": {
    "execution": {
     "iopub.execute_input": "2024-03-06T15:19:38.976154Z",
     "iopub.status.busy": "2024-03-06T15:19:38.975896Z",
     "iopub.status.idle": "2024-03-06T15:19:38.989222Z",
     "shell.execute_reply": "2024-03-06T15:19:38.988408Z"
    },
    "id": "-feYtY_jCNbj",
    "outputId": "851bbaa6-d4ff-468c-918a-71a4c688f279",
    "papermill": {
     "duration": 0.043111,
     "end_time": "2024-03-06T15:19:38.991367",
     "exception": false,
     "start_time": "2024-03-06T15:19:38.948256",
     "status": "completed"
    },
    "tags": []
   },
   "outputs": [
    {
     "name": "stdout",
     "output_type": "stream",
     "text": [
      "Correct Predictions: 36013, Wrong Predictions: 3929\n"
     ]
    }
   ],
   "source": [
    "correct_predictions = sum(y_test == y_pred_best)\n",
    "wrong_predictions = len(y_test) - correct_predictions\n",
    "print(f'Correct Predictions: {correct_predictions}, Wrong Predictions: {wrong_predictions}')"
   ]
  },
  {
   "cell_type": "code",
   "execution_count": 62,
   "id": "d6c9a299",
   "metadata": {
    "execution": {
     "iopub.execute_input": "2024-03-06T15:19:39.046267Z",
     "iopub.status.busy": "2024-03-06T15:19:39.045945Z",
     "iopub.status.idle": "2024-03-06T15:19:39.296561Z",
     "shell.execute_reply": "2024-03-06T15:19:39.295699Z"
    },
    "id": "lSI2PVIyCZUw",
    "outputId": "6856885f-2372-44a6-9105-a1f433f1d0ff",
    "papermill": {
     "duration": 0.280815,
     "end_time": "2024-03-06T15:19:39.298578",
     "exception": false,
     "start_time": "2024-03-06T15:19:39.017763",
     "status": "completed"
    },
    "tags": []
   },
   "outputs": [
    {
     "data": {
      "image/png": "[encoded data removed]",
      "text/plain": [
       "<Figure size 640x480 with 1 Axes>"
      ]
     },
     "metadata": {},
     "output_type": "display_data"
    }
   ],
   "source": [
    "labels = ['Correct Predictions', 'Wrong Predictions']\n",
    "values = [correct_predictions, wrong_predictions]\n",
    "\n",
    "plt.bar(labels, values, color=['green', 'red'])\n",
    "plt.title('Correct vs Wrong Predictions')\n",
    "plt.xlabel('Prediction Outcome')\n",
    "plt.ylabel('Number of Samples')\n",
    "plt.show()"
   ]
  },
  {
   "cell_type": "markdown",
   "id": "4a2b9bd1",
   "metadata": {
    "id": "TVk96xpQDmfZ",
    "papermill": {
     "duration": 0.026922,
     "end_time": "2024-03-06T15:19:39.353057",
     "exception": false,
     "start_time": "2024-03-06T15:19:39.326135",
     "status": "completed"
    },
    "tags": []
   },
   "source": [
    "## Final Dataframe"
   ]
  },
  {
   "cell_type": "code",
   "execution_count": 63,
   "id": "1ff86b7a",
   "metadata": {
    "execution": {
     "iopub.execute_input": "2024-03-06T15:19:39.409418Z",
     "iopub.status.busy": "2024-03-06T15:19:39.408716Z",
     "iopub.status.idle": "2024-03-06T15:19:39.422881Z",
     "shell.execute_reply": "2024-03-06T15:19:39.422024Z"
    },
    "id": "cQEzT9t1C3NC",
    "outputId": "20ce48f3-2dff-40da-cf2b-04561e0f1fbb",
    "papermill": {
     "duration": 0.044258,
     "end_time": "2024-03-06T15:19:39.424896",
     "exception": false,
     "start_time": "2024-03-06T15:19:39.380638",
     "status": "completed"
    },
    "tags": []
   },
   "outputs": [
    {
     "data": {
      "text/html": [
       "<div>\n",
       "<style scoped>\n",
       "    .dataframe tbody tr th:only-of-type {\n",
       "        vertical-align: middle;\n",
       "    }\n",
       "\n",
       "    .dataframe tbody tr th {\n",
       "        vertical-align: top;\n",
       "    }\n",
       "\n",
       "    .dataframe thead th {\n",
       "        text-align: right;\n",
       "    }\n",
       "</style>\n",
       "<table border=\"1\" class=\"dataframe\">\n",
       "  <thead>\n",
       "    <tr style=\"text-align: right;\">\n",
       "      <th></th>\n",
       "      <th>Content</th>\n",
       "      <th>Predicted_Labels</th>\n",
       "      <th>Actual_Labels</th>\n",
       "    </tr>\n",
       "  </thead>\n",
       "  <tbody>\n",
       "    <tr>\n",
       "      <th>23219</th>\n",
       "      <td>congress sandeep dikshit monday asked aimim ch...</td>\n",
       "      <td>['politics']</td>\n",
       "      <td>['politics']</td>\n",
       "    </tr>\n",
       "    <tr>\n",
       "      <th>48597</th>\n",
       "      <td>square ceo alyssa henry stepping nine years pa...</td>\n",
       "      <td>['business', 'startup']</td>\n",
       "      <td>['business', 'startup']</td>\n",
       "    </tr>\n",
       "    <tr>\n",
       "      <th>162019</th>\n",
       "      <td>every womans menstruation cycle reflects certa...</td>\n",
       "      <td>['Health___Fitness']</td>\n",
       "      <td>['Health___Fitness']</td>\n",
       "    </tr>\n",
       "    <tr>\n",
       "      <th>35753</th>\n",
       "      <td>jonty rhodes superman runout inzamamulhaq worl...</td>\n",
       "      <td>['sports', 'ODI_World_Cup_2023']</td>\n",
       "      <td>['sports', 'ODI_World_Cup_2023']</td>\n",
       "    </tr>\n",
       "    <tr>\n",
       "      <th>108844</th>\n",
       "      <td>cartrade technologies reported yoy surge profi...</td>\n",
       "      <td>['business', 'startup', 'technology']</td>\n",
       "      <td>['business', 'startup', 'technology']</td>\n",
       "    </tr>\n",
       "  </tbody>\n",
       "</table>\n",
       "</div>"
      ],
      "text/plain": [
       "                                                  Content  \\\n",
       "23219   congress sandeep dikshit monday asked aimim ch...   \n",
       "48597   square ceo alyssa henry stepping nine years pa...   \n",
       "162019  every womans menstruation cycle reflects certa...   \n",
       "35753   jonty rhodes superman runout inzamamulhaq worl...   \n",
       "108844  cartrade technologies reported yoy surge profi...   \n",
       "\n",
       "                             Predicted_Labels  \\\n",
       "23219                            ['politics']   \n",
       "48597                 ['business', 'startup']   \n",
       "162019                   ['Health___Fitness']   \n",
       "35753        ['sports', 'ODI_World_Cup_2023']   \n",
       "108844  ['business', 'startup', 'technology']   \n",
       "\n",
       "                                Actual_Labels  \n",
       "23219                            ['politics']  \n",
       "48597                 ['business', 'startup']  \n",
       "162019                   ['Health___Fitness']  \n",
       "35753        ['sports', 'ODI_World_Cup_2023']  \n",
       "108844  ['business', 'startup', 'technology']  "
      ]
     },
     "execution_count": 63,
     "metadata": {},
     "output_type": "execute_result"
    }
   ],
   "source": [
    "#final dataframe with text and predicted labels\n",
    "final_df = pd.DataFrame({'Content': X_test, 'Predicted_Labels': predicted_labels_original, 'Actual_Labels': le.inverse_transform(y_test)})\n",
    "\n",
    "final_df.head()"
   ]
  },
  {
   "cell_type": "markdown",
   "id": "232ed10c",
   "metadata": {
    "id": "RoK2w4EmDc-G",
    "papermill": {
     "duration": 0.027311,
     "end_time": "2024-03-06T15:19:39.481378",
     "exception": false,
     "start_time": "2024-03-06T15:19:39.454067",
     "status": "completed"
    },
    "tags": []
   },
   "source": [
    "## findings and insights :\n",
    "* 1- using BOW rather that TF-IDF bec BOW have highest acc than TF-IDF \n",
    "* 2- use those hyperparamters [max_feature=None , ngram_range=(1,2) , alpha=0.1116] to get the accuracy 0.984\n",
    "* 3- after using the best model the Correct predictions = 39300 (thats very good) & the wrong predictions are : 642\n",
    "* 4- using other models may be give high accuracy and Correct predections"
   ]
  }
 ],
 "metadata": {
  "accelerator": "GPU",
  "colab": {
   "gpuType": "T4",
   "provenance": []
  },
  "kaggle": {
   "accelerator": "nvidiaTeslaT4",
   "dataSources": [
    {
     "datasetId": 4532419,
     "sourceId": 7751902,
     "sourceType": "datasetVersion"
    }
   ],
   "dockerImageVersionId": 30665,
   "isGpuEnabled": true,
   "isInternetEnabled": true,
   "language": "python",
   "sourceType": "notebook"
  },
  "kernelspec": {
   "display_name": "Python 3",
   "language": "python",
   "name": "python3"
  },
  "language_info": {
   "codemirror_mode": {
    "name": "ipython",
    "version": 3
   },
   "file_extension": ".py",
   "mimetype": "text/x-python",
   "name": "python",
   "nbconvert_exporter": "python",
   "pygments_lexer": "ipython3",
   "version": "3.10.13"
  },
  "papermill": {
   "default_parameters": {},
   "duration": 689.332049,
   "end_time": "2024-03-06T15:19:40.330264",
   "environment_variables": {},
   "exception": null,
   "input_path": "__notebook__.ipynb",
   "output_path": "__notebook__.ipynb",
   "parameters": {},
   "start_time": "2024-03-06T15:08:10.998215",
   "version": "2.5.0"
  }
 },
 "nbformat": 4,
 "nbformat_minor": 5
}
